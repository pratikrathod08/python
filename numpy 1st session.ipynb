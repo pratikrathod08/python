{
 "cells": [
  {
   "cell_type": "code",
   "execution_count": 1,
   "id": "f6d2e9cf",
   "metadata": {},
   "outputs": [],
   "source": [
    "# statement to inport numpy library\n",
    "import numpy as np\n"
   ]
  },
  {
   "cell_type": "code",
   "execution_count": 2,
   "id": "917f4de9",
   "metadata": {},
   "outputs": [],
   "source": [
    "prime_array=np.array([1,2,3,4,5])"
   ]
  },
  {
   "cell_type": "code",
   "execution_count": 3,
   "id": "fc144cf6",
   "metadata": {},
   "outputs": [
    {
     "name": "stdout",
     "output_type": "stream",
     "text": [
      "[1 2 3 4 5]\n"
     ]
    }
   ],
   "source": [
    "print(prime_array)"
   ]
  },
  {
   "cell_type": "code",
   "execution_count": 4,
   "id": "951233ea",
   "metadata": {},
   "outputs": [
    {
     "data": {
      "text/plain": [
       "numpy.ndarray"
      ]
     },
     "execution_count": 4,
     "metadata": {},
     "output_type": "execute_result"
    }
   ],
   "source": [
    "type(prime_array)"
   ]
  },
  {
   "cell_type": "code",
   "execution_count": 11,
   "id": "7c790bda",
   "metadata": {},
   "outputs": [],
   "source": [
    "another_array=np.array([[1,2],[3,4]])"
   ]
  },
  {
   "cell_type": "code",
   "execution_count": 9,
   "id": "4d302aea",
   "metadata": {},
   "outputs": [
    {
     "name": "stdout",
     "output_type": "stream",
     "text": [
      "[[1 2]\n",
      " [3 4]]\n"
     ]
    }
   ],
   "source": [
    "print(another_array)"
   ]
  },
  {
   "cell_type": "code",
   "execution_count": 14,
   "id": "b6e423d3",
   "metadata": {},
   "outputs": [],
   "source": [
    "three_dimention_array=np.array([[1,2,3],[3,4,6],[5,6,6]])"
   ]
  },
  {
   "cell_type": "code",
   "execution_count": 15,
   "id": "f94849ef",
   "metadata": {},
   "outputs": [
    {
     "name": "stdout",
     "output_type": "stream",
     "text": [
      "[[1 2 3]\n",
      " [3 4 6]\n",
      " [5 6 6]]\n"
     ]
    }
   ],
   "source": [
    "print(three_dimention_array)"
   ]
  },
  {
   "cell_type": "code",
   "execution_count": null,
   "id": "4e28b34d",
   "metadata": {},
   "outputs": [],
   "source": []
  }
 ],
 "metadata": {
  "kernelspec": {
   "display_name": "Python 3 (ipykernel)",
   "language": "python",
   "name": "python3"
  },
  "language_info": {
   "codemirror_mode": {
    "name": "ipython",
    "version": 3
   },
   "file_extension": ".py",
   "mimetype": "text/x-python",
   "name": "python",
   "nbconvert_exporter": "python",
   "pygments_lexer": "ipython3",
   "version": "3.9.12"
  }
 },
 "nbformat": 4,
 "nbformat_minor": 5
}
