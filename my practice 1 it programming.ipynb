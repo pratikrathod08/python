{
 "cells": [
  {
   "cell_type": "code",
   "execution_count": 1,
   "id": "44095670",
   "metadata": {},
   "outputs": [
    {
     "name": "stdout",
     "output_type": "stream",
     "text": [
      "wikipedia is free online encyclopedia\n"
     ]
    },
    {
     "data": {
      "text/plain": [
       "38"
      ]
     },
     "execution_count": 1,
     "metadata": {},
     "output_type": "execute_result"
    }
   ],
   "source": [
    "sentences='wikipedia is free online encyclopedia'\n",
    "print(sentences)\n",
    "sentences.count('')"
   ]
  },
  {
   "cell_type": "code",
   "execution_count": 2,
   "id": "b722deaa",
   "metadata": {},
   "outputs": [
    {
     "data": {
      "text/plain": [
       "str"
      ]
     },
     "execution_count": 2,
     "metadata": {},
     "output_type": "execute_result"
    }
   ],
   "source": [
    "jannat= 'riscky'\n",
    "type(jannat)"
   ]
  },
  {
   "cell_type": "code",
   "execution_count": 3,
   "id": "cef61266",
   "metadata": {},
   "outputs": [
    {
     "data": {
      "text/plain": [
       "float"
      ]
     },
     "execution_count": 3,
     "metadata": {},
     "output_type": "execute_result"
    }
   ],
   "source": [
    "x=6.4\n",
    "type(x)"
   ]
  },
  {
   "cell_type": "code",
   "execution_count": 4,
   "id": "7d1530fd",
   "metadata": {},
   "outputs": [
    {
     "data": {
      "text/plain": [
       "int"
      ]
     },
     "execution_count": 4,
     "metadata": {},
     "output_type": "execute_result"
    }
   ],
   "source": [
    "x=44\n",
    "type(x)"
   ]
  },
  {
   "cell_type": "code",
   "execution_count": 5,
   "id": "999b9c0e",
   "metadata": {},
   "outputs": [
    {
     "name": "stdout",
     "output_type": "stream",
     "text": [
      "0x200a87c6e90\n"
     ]
    }
   ],
   "source": [
    "print(hex(id(x)))\n"
   ]
  },
  {
   "cell_type": "code",
   "execution_count": 6,
   "id": "b0fe0a82",
   "metadata": {},
   "outputs": [
    {
     "name": "stdout",
     "output_type": "stream",
     "text": [
      "0x200ada47c70\n"
     ]
    }
   ],
   "source": [
    "print(hex(id(jannat)))"
   ]
  },
  {
   "cell_type": "code",
   "execution_count": 7,
   "id": "f1441a87",
   "metadata": {},
   "outputs": [
    {
     "name": "stdout",
     "output_type": "stream",
     "text": [
      "1.0\n",
      "0.0\n",
      "3.0\n",
      "64\n",
      "27\n"
     ]
    }
   ],
   "source": [
    "x=3\n",
    "y=3.6\n",
    "z=x//y\n",
    "q=y//x\n",
    "print(q)\n",
    "print(z)\n",
    "s=x%y\n",
    "print(s)\n",
    "x=2**6\n",
    "print(x)\n",
    "y=3**3\n",
    "print(y)"
   ]
  },
  {
   "cell_type": "code",
   "execution_count": 8,
   "id": "a5c2887e",
   "metadata": {},
   "outputs": [
    {
     "data": {
      "text/plain": [
       "True"
      ]
     },
     "execution_count": 8,
     "metadata": {},
     "output_type": "execute_result"
    }
   ],
   "source": [
    "a=2\n",
    "b=3\n",
    "c=4\n",
    "a==b\n",
    "b==c\n",
    "a==2\n",
    "a!=2\n",
    "a!=3"
   ]
  },
  {
   "cell_type": "code",
   "execution_count": 9,
   "id": "c4a68028",
   "metadata": {},
   "outputs": [
    {
     "data": {
      "text/plain": [
       "False"
      ]
     },
     "execution_count": 9,
     "metadata": {},
     "output_type": "execute_result"
    }
   ],
   "source": [
    "a==b"
   ]
  },
  {
   "cell_type": "code",
   "execution_count": 10,
   "id": "f792f0c8",
   "metadata": {},
   "outputs": [
    {
     "data": {
      "text/plain": [
       "False"
      ]
     },
     "execution_count": 10,
     "metadata": {},
     "output_type": "execute_result"
    }
   ],
   "source": [
    "b==c"
   ]
  },
  {
   "cell_type": "code",
   "execution_count": 11,
   "id": "2be78f2b",
   "metadata": {},
   "outputs": [
    {
     "data": {
      "text/plain": [
       "False"
      ]
     },
     "execution_count": 11,
     "metadata": {},
     "output_type": "execute_result"
    }
   ],
   "source": [
    "a!=2"
   ]
  },
  {
   "cell_type": "code",
   "execution_count": 12,
   "id": "61dfa673",
   "metadata": {},
   "outputs": [
    {
     "data": {
      "text/plain": [
       "True"
      ]
     },
     "execution_count": 12,
     "metadata": {},
     "output_type": "execute_result"
    }
   ],
   "source": [
    "a!=3"
   ]
  },
  {
   "cell_type": "code",
   "execution_count": 13,
   "id": "1cdfc88a",
   "metadata": {},
   "outputs": [
    {
     "data": {
      "text/plain": [
       "False"
      ]
     },
     "execution_count": 13,
     "metadata": {},
     "output_type": "execute_result"
    }
   ],
   "source": [
    "a>b"
   ]
  },
  {
   "cell_type": "code",
   "execution_count": 14,
   "id": "70fdd122",
   "metadata": {},
   "outputs": [
    {
     "data": {
      "text/plain": [
       "True"
      ]
     },
     "execution_count": 14,
     "metadata": {},
     "output_type": "execute_result"
    }
   ],
   "source": [
    "b>a"
   ]
  },
  {
   "cell_type": "code",
   "execution_count": 15,
   "id": "5614f7e6",
   "metadata": {},
   "outputs": [],
   "source": [
    "my_first_string='algebra'"
   ]
  },
  {
   "cell_type": "code",
   "execution_count": 16,
   "id": "4a8286db",
   "metadata": {},
   "outputs": [
    {
     "name": "stdout",
     "output_type": "stream",
     "text": [
      "algebra\n"
     ]
    }
   ],
   "source": [
    "print(my_first_string)"
   ]
  },
  {
   "cell_type": "code",
   "execution_count": 17,
   "id": "906ed403",
   "metadata": {},
   "outputs": [
    {
     "data": {
      "text/plain": [
       "str"
      ]
     },
     "execution_count": 17,
     "metadata": {},
     "output_type": "execute_result"
    }
   ],
   "source": [
    "phrase='i am a devil of my world'\n",
    "type(phrase)"
   ]
  },
  {
   "cell_type": "code",
   "execution_count": 18,
   "id": "76d6bf5b",
   "metadata": {},
   "outputs": [
    {
     "name": "stdout",
     "output_type": "stream",
     "text": [
      "i am a devil of my world\n"
     ]
    }
   ],
   "source": [
    "print(phrase)"
   ]
  },
  {
   "cell_type": "code",
   "execution_count": 19,
   "id": "99eef790",
   "metadata": {},
   "outputs": [
    {
     "name": "stdout",
     "output_type": "stream",
     "text": [
      "i am \n",
      "king\n"
     ]
    }
   ],
   "source": [
    "g='i am \\nking'\n",
    "print(g)\n"
   ]
  },
  {
   "cell_type": "code",
   "execution_count": 20,
   "id": "e7810bfc",
   "metadata": {},
   "outputs": [
    {
     "data": {
      "text/plain": [
       "7"
      ]
     },
     "execution_count": 20,
     "metadata": {},
     "output_type": "execute_result"
    }
   ],
   "source": [
    "len(my_first_string)\n"
   ]
  },
  {
   "cell_type": "code",
   "execution_count": 21,
   "id": "ad224680",
   "metadata": {},
   "outputs": [
    {
     "name": "stdout",
     "output_type": "stream",
     "text": [
      "principle component analysis\n"
     ]
    }
   ],
   "source": [
    "string='principle component analysis'\n",
    "print(string)"
   ]
  },
  {
   "cell_type": "code",
   "execution_count": 22,
   "id": "da1fa4fb",
   "metadata": {},
   "outputs": [
    {
     "data": {
      "text/plain": [
       "28"
      ]
     },
     "execution_count": 22,
     "metadata": {},
     "output_type": "execute_result"
    }
   ],
   "source": [
    "len(string)"
   ]
  },
  {
   "cell_type": "code",
   "execution_count": 23,
   "id": "51bac472",
   "metadata": {},
   "outputs": [
    {
     "name": "stdout",
     "output_type": "stream",
     "text": [
      " \n"
     ]
    }
   ],
   "source": [
    "print(string[9])"
   ]
  },
  {
   "cell_type": "code",
   "execution_count": 24,
   "id": "61ec5862",
   "metadata": {},
   "outputs": [
    {
     "name": "stdout",
     "output_type": "stream",
     "text": [
      "c\n"
     ]
    }
   ],
   "source": [
    "print(string[4])"
   ]
  },
  {
   "cell_type": "code",
   "execution_count": 25,
   "id": "bb6666a5",
   "metadata": {},
   "outputs": [
    {
     "data": {
      "text/plain": [
       "''"
      ]
     },
     "execution_count": 25,
     "metadata": {},
     "output_type": "execute_result"
    }
   ],
   "source": [
    "string[3:2]"
   ]
  },
  {
   "cell_type": "code",
   "execution_count": 26,
   "id": "a27d1d36",
   "metadata": {},
   "outputs": [
    {
     "data": {
      "text/plain": [
       "'nc'"
      ]
     },
     "execution_count": 26,
     "metadata": {},
     "output_type": "execute_result"
    }
   ],
   "source": [
    "string[3:5]"
   ]
  },
  {
   "cell_type": "code",
   "execution_count": 27,
   "id": "28a04419",
   "metadata": {},
   "outputs": [
    {
     "data": {
      "text/plain": [
       "'icp'"
      ]
     },
     "execution_count": 27,
     "metadata": {},
     "output_type": "execute_result"
    }
   ],
   "source": [
    "string[2:8:2]"
   ]
  },
  {
   "cell_type": "code",
   "execution_count": 28,
   "id": "7636623a",
   "metadata": {},
   "outputs": [
    {
     "name": "stdout",
     "output_type": "stream",
     "text": [
      "risckyrathod\n"
     ]
    }
   ],
   "source": [
    "string1='riscky'\n",
    "string2='rathod'\n",
    "print(string1+''+string2)"
   ]
  },
  {
   "cell_type": "code",
   "execution_count": 29,
   "id": "052510a5",
   "metadata": {},
   "outputs": [
    {
     "data": {
      "text/plain": [
       "6"
      ]
     },
     "execution_count": 29,
     "metadata": {},
     "output_type": "execute_result"
    }
   ],
   "source": [
    "len(string1)"
   ]
  },
  {
   "cell_type": "code",
   "execution_count": 30,
   "id": "ecafd6a2",
   "metadata": {},
   "outputs": [
    {
     "data": {
      "text/plain": [
       "'riscky'"
      ]
     },
     "execution_count": 30,
     "metadata": {},
     "output_type": "execute_result"
    }
   ],
   "source": [
    "string1.lower()"
   ]
  },
  {
   "cell_type": "code",
   "execution_count": 31,
   "id": "ed634240",
   "metadata": {},
   "outputs": [
    {
     "data": {
      "text/plain": [
       "'RISCKY'"
      ]
     },
     "execution_count": 31,
     "metadata": {},
     "output_type": "execute_result"
    }
   ],
   "source": [
    "string1.upper()"
   ]
  },
  {
   "cell_type": "code",
   "execution_count": 32,
   "id": "1ee238d6",
   "metadata": {},
   "outputs": [
    {
     "data": {
      "text/plain": [
       "7"
      ]
     },
     "execution_count": 32,
     "metadata": {},
     "output_type": "execute_result"
    }
   ],
   "source": [
    "string1.count('')\n",
    "\n"
   ]
  },
  {
   "cell_type": "markdown",
   "id": "7ba60b54",
   "metadata": {},
   "source": []
  },
  {
   "cell_type": "code",
   "execution_count": 33,
   "id": "febb352f",
   "metadata": {},
   "outputs": [
    {
     "data": {
      "text/plain": [
       "1"
      ]
     },
     "execution_count": 33,
     "metadata": {},
     "output_type": "execute_result"
    }
   ],
   "source": [
    "string1.count('s')"
   ]
  },
  {
   "cell_type": "code",
   "execution_count": 34,
   "id": "98f5bb49",
   "metadata": {},
   "outputs": [
    {
     "data": {
      "text/plain": [
       "2"
      ]
     },
     "execution_count": 34,
     "metadata": {},
     "output_type": "execute_result"
    }
   ],
   "source": [
    "string1.find('s')"
   ]
  },
  {
   "cell_type": "code",
   "execution_count": 35,
   "id": "7693fca2",
   "metadata": {},
   "outputs": [],
   "source": [
    "pratik='hllo ahmedabad'"
   ]
  },
  {
   "cell_type": "code",
   "execution_count": 36,
   "id": "375f6203",
   "metadata": {},
   "outputs": [
    {
     "data": {
      "text/plain": [
       "'cllo acmedabad'"
      ]
     },
     "execution_count": 36,
     "metadata": {},
     "output_type": "execute_result"
    }
   ],
   "source": [
    "pratik.replace('h','c')"
   ]
  },
  {
   "cell_type": "code",
   "execution_count": 37,
   "id": "a590d7b0",
   "metadata": {},
   "outputs": [],
   "source": [
    "jannat=(f'from my side to all of you guys {pratik}')"
   ]
  },
  {
   "cell_type": "code",
   "execution_count": 38,
   "id": "402a0ef5",
   "metadata": {},
   "outputs": [
    {
     "name": "stdout",
     "output_type": "stream",
     "text": [
      "from my side to all of you guys hllo ahmedabad\n"
     ]
    }
   ],
   "source": [
    "print(jannat)"
   ]
  },
  {
   "cell_type": "code",
   "execution_count": 39,
   "id": "9d2342de",
   "metadata": {},
   "outputs": [
    {
     "name": "stdout",
     "output_type": "stream",
     "text": [
      "pratik is a very riscky boy.\n"
     ]
    }
   ],
   "source": [
    "print('%s is a very %s boy.' % ('pratik','riscky'))"
   ]
  },
  {
   "cell_type": "code",
   "execution_count": 40,
   "id": "083098cf",
   "metadata": {},
   "outputs": [
    {
     "data": {
      "text/plain": [
       "False"
      ]
     },
     "execution_count": 40,
     "metadata": {},
     "output_type": "execute_result"
    }
   ],
   "source": [
    "'pratik'in jannat"
   ]
  },
  {
   "cell_type": "code",
   "execution_count": 41,
   "id": "6742aa36",
   "metadata": {},
   "outputs": [
    {
     "data": {
      "text/plain": [
       "True"
      ]
     },
     "execution_count": 41,
     "metadata": {},
     "output_type": "execute_result"
    }
   ],
   "source": [
    "'ahmedabad'in jannat"
   ]
  },
  {
   "cell_type": "code",
   "execution_count": 42,
   "id": "0e0355f3",
   "metadata": {},
   "outputs": [
    {
     "data": {
      "text/plain": [
       "True"
      ]
     },
     "execution_count": 42,
     "metadata": {},
     "output_type": "execute_result"
    }
   ],
   "source": [
    "'pratik'not in jannat"
   ]
  },
  {
   "cell_type": "code",
   "execution_count": 43,
   "id": "e3435e9b",
   "metadata": {},
   "outputs": [
    {
     "name": "stdout",
     "output_type": "stream",
     "text": [
      "[1, 2, 3, 4, 5]\n"
     ]
    },
    {
     "data": {
      "text/plain": [
       "list"
      ]
     },
     "execution_count": 43,
     "metadata": {},
     "output_type": "execute_result"
    }
   ],
   "source": [
    "my_list=[1,2,3,4,5]\n",
    "print(my_list)\n",
    "type(my_list)"
   ]
  },
  {
   "cell_type": "code",
   "execution_count": 44,
   "id": "8bdaf0a6",
   "metadata": {},
   "outputs": [],
   "source": [
    "riscky=[1,2,3,a,b,c,True,False]"
   ]
  },
  {
   "cell_type": "code",
   "execution_count": 45,
   "id": "9371472a",
   "metadata": {},
   "outputs": [
    {
     "name": "stdout",
     "output_type": "stream",
     "text": [
      "[1, 2, 3, 2, 3, 4, True, False]\n"
     ]
    }
   ],
   "source": [
    "print(riscky)"
   ]
  },
  {
   "cell_type": "markdown",
   "id": "d6722aa7",
   "metadata": {},
   "source": []
  },
  {
   "cell_type": "code",
   "execution_count": 46,
   "id": "452357c2",
   "metadata": {},
   "outputs": [
    {
     "data": {
      "text/plain": [
       "True"
      ]
     },
     "execution_count": 46,
     "metadata": {},
     "output_type": "execute_result"
    }
   ],
   "source": [
    "1 in riscky"
   ]
  },
  {
   "cell_type": "code",
   "execution_count": 47,
   "id": "6f4b70ce",
   "metadata": {},
   "outputs": [
    {
     "data": {
      "text/plain": [
       "8"
      ]
     },
     "execution_count": 47,
     "metadata": {},
     "output_type": "execute_result"
    }
   ],
   "source": [
    "len(riscky)"
   ]
  },
  {
   "cell_type": "code",
   "execution_count": 48,
   "id": "e0dcc169",
   "metadata": {},
   "outputs": [
    {
     "data": {
      "text/plain": [
       "2"
      ]
     },
     "execution_count": 48,
     "metadata": {},
     "output_type": "execute_result"
    }
   ],
   "source": [
    "riscky.count(1)"
   ]
  },
  {
   "cell_type": "code",
   "execution_count": 49,
   "id": "e4576797",
   "metadata": {},
   "outputs": [
    {
     "data": {
      "text/plain": [
       "2"
      ]
     },
     "execution_count": 49,
     "metadata": {},
     "output_type": "execute_result"
    }
   ],
   "source": [
    "riscky.count(2)"
   ]
  },
  {
   "cell_type": "code",
   "execution_count": 50,
   "id": "52fd9c04",
   "metadata": {},
   "outputs": [
    {
     "data": {
      "text/plain": [
       "8"
      ]
     },
     "execution_count": 50,
     "metadata": {},
     "output_type": "execute_result"
    }
   ],
   "source": [
    "len(riscky)"
   ]
  },
  {
   "cell_type": "code",
   "execution_count": 51,
   "id": "4d13ee4b",
   "metadata": {},
   "outputs": [
    {
     "name": "stdout",
     "output_type": "stream",
     "text": [
      "3\n"
     ]
    }
   ],
   "source": [
    "print(riscky[4])"
   ]
  },
  {
   "cell_type": "code",
   "execution_count": 52,
   "id": "4d002e15",
   "metadata": {},
   "outputs": [
    {
     "data": {
      "text/plain": [
       "0"
      ]
     },
     "execution_count": 52,
     "metadata": {},
     "output_type": "execute_result"
    }
   ],
   "source": [
    "riscky.count('')"
   ]
  },
  {
   "cell_type": "code",
   "execution_count": 53,
   "id": "d1a6d0f1",
   "metadata": {},
   "outputs": [
    {
     "data": {
      "text/plain": [
       "2"
      ]
     },
     "execution_count": 53,
     "metadata": {},
     "output_type": "execute_result"
    }
   ],
   "source": [
    "riscky.count(3)"
   ]
  },
  {
   "cell_type": "code",
   "execution_count": 54,
   "id": "92fe9300",
   "metadata": {},
   "outputs": [
    {
     "data": {
      "text/plain": [
       "0"
      ]
     },
     "execution_count": 54,
     "metadata": {},
     "output_type": "execute_result"
    }
   ],
   "source": [
    "riscky.count([True])"
   ]
  },
  {
   "cell_type": "raw",
   "id": "6cc76f5b",
   "metadata": {},
   "source": []
  },
  {
   "cell_type": "code",
   "execution_count": 55,
   "id": "70e4a358",
   "metadata": {},
   "outputs": [
    {
     "name": "stdout",
     "output_type": "stream",
     "text": [
      "4\n"
     ]
    }
   ],
   "source": [
    "print(riscky[5])"
   ]
  },
  {
   "cell_type": "code",
   "execution_count": 56,
   "id": "62cf2daf",
   "metadata": {},
   "outputs": [
    {
     "ename": "TypeError",
     "evalue": "can only concatenate list (not \"str\") to list",
     "output_type": "error",
     "traceback": [
      "\u001b[1;31m---------------------------------------------------------------------------\u001b[0m",
      "\u001b[1;31mTypeError\u001b[0m                                 Traceback (most recent call last)",
      "Input \u001b[1;32mIn [56]\u001b[0m, in \u001b[0;36m<cell line: 1>\u001b[1;34m()\u001b[0m\n\u001b[1;32m----> 1\u001b[0m \u001b[43mriscky\u001b[49m\u001b[38;5;241;43m+\u001b[39;49m\u001b[38;5;124;43m'\u001b[39;49m\u001b[38;5;124;43mjannat raj\u001b[39;49m\u001b[38;5;124;43m'\u001b[39;49m\n",
      "\u001b[1;31mTypeError\u001b[0m: can only concatenate list (not \"str\") to list"
     ]
    }
   ],
   "source": [
    "riscky+'jannat raj'"
   ]
  },
  {
   "cell_type": "code",
   "execution_count": 57,
   "id": "d817782a",
   "metadata": {},
   "outputs": [
    {
     "ename": "SyntaxError",
     "evalue": "invalid syntax (1037469620.py, line 1)",
     "output_type": "error",
     "traceback": [
      "\u001b[1;36m  Input \u001b[1;32mIn [57]\u001b[1;36m\u001b[0m\n\u001b[1;33m    print(riscky+;jannat raj)\u001b[0m\n\u001b[1;37m                 ^\u001b[0m\n\u001b[1;31mSyntaxError\u001b[0m\u001b[1;31m:\u001b[0m invalid syntax\n"
     ]
    }
   ],
   "source": [
    "print(riscky+;jannat raj)"
   ]
  },
  {
   "cell_type": "code",
   "execution_count": 58,
   "id": "f51ac297",
   "metadata": {},
   "outputs": [
    {
     "name": "stdout",
     "output_type": "stream",
     "text": [
      "risckyjannat raj\n"
     ]
    }
   ],
   "source": [
    "print('riscky'+'jannat raj')"
   ]
  },
  {
   "cell_type": "code",
   "execution_count": 59,
   "id": "2cf195c4",
   "metadata": {},
   "outputs": [
    {
     "ename": "SyntaxError",
     "evalue": "invalid syntax (3240039315.py, line 1)",
     "output_type": "error",
     "traceback": [
      "\u001b[1;36m  Input \u001b[1;32mIn [59]\u001b[1;36m\u001b[0m\n\u001b[1;33m    riscky=riscky+[jannat raj]\u001b[0m\n\u001b[1;37m                          ^\u001b[0m\n\u001b[1;31mSyntaxError\u001b[0m\u001b[1;31m:\u001b[0m invalid syntax\n"
     ]
    }
   ],
   "source": [
    "riscky=riscky+[jannat raj]"
   ]
  },
  {
   "cell_type": "code",
   "execution_count": 60,
   "id": "23344278",
   "metadata": {},
   "outputs": [
    {
     "ename": "SyntaxError",
     "evalue": "invalid syntax (2440282368.py, line 1)",
     "output_type": "error",
     "traceback": [
      "\u001b[1;36m  Input \u001b[1;32mIn [60]\u001b[1;36m\u001b[0m\n\u001b[1;33m    riscky=riscky+[]'jannat raj'\u001b[0m\n\u001b[1;37m                    ^\u001b[0m\n\u001b[1;31mSyntaxError\u001b[0m\u001b[1;31m:\u001b[0m invalid syntax\n"
     ]
    }
   ],
   "source": [
    "riscky=riscky+[]'jannat raj'"
   ]
  },
  {
   "cell_type": "code",
   "execution_count": 61,
   "id": "32493fe8",
   "metadata": {},
   "outputs": [],
   "source": [
    "riscky=riscky+['jannat raj ']"
   ]
  },
  {
   "cell_type": "code",
   "execution_count": 62,
   "id": "5e99cd73",
   "metadata": {},
   "outputs": [
    {
     "name": "stdout",
     "output_type": "stream",
     "text": [
      "[1, 2, 3, 2, 3, 4, True, False, 'jannat raj ']\n"
     ]
    }
   ],
   "source": [
    "print(riscky)"
   ]
  },
  {
   "cell_type": "code",
   "execution_count": 63,
   "id": "f20c9617",
   "metadata": {},
   "outputs": [
    {
     "data": {
      "text/plain": [
       "9"
      ]
     },
     "execution_count": 63,
     "metadata": {},
     "output_type": "execute_result"
    }
   ],
   "source": [
    "len(riscky)"
   ]
  },
  {
   "cell_type": "code",
   "execution_count": 64,
   "id": "4ef8d9e5",
   "metadata": {},
   "outputs": [
    {
     "ename": "TypeError",
     "evalue": "'<' not supported between instances of 'str' and 'bool'",
     "output_type": "error",
     "traceback": [
      "\u001b[1;31m---------------------------------------------------------------------------\u001b[0m",
      "\u001b[1;31mTypeError\u001b[0m                                 Traceback (most recent call last)",
      "Input \u001b[1;32mIn [64]\u001b[0m, in \u001b[0;36m<cell line: 1>\u001b[1;34m()\u001b[0m\n\u001b[1;32m----> 1\u001b[0m \u001b[38;5;28;43mmin\u001b[39;49m\u001b[43m(\u001b[49m\u001b[43mriscky\u001b[49m\u001b[43m)\u001b[49m\n",
      "\u001b[1;31mTypeError\u001b[0m: '<' not supported between instances of 'str' and 'bool'"
     ]
    }
   ],
   "source": [
    "min(riscky)"
   ]
  },
  {
   "cell_type": "code",
   "execution_count": 65,
   "id": "53bc13cc",
   "metadata": {},
   "outputs": [
    {
     "ename": "TypeError",
     "evalue": "'<' not supported between instances of 'str' and 'bool'",
     "output_type": "error",
     "traceback": [
      "\u001b[1;31m---------------------------------------------------------------------------\u001b[0m",
      "\u001b[1;31mTypeError\u001b[0m                                 Traceback (most recent call last)",
      "Input \u001b[1;32mIn [65]\u001b[0m, in \u001b[0;36m<cell line: 1>\u001b[1;34m()\u001b[0m\n\u001b[1;32m----> 1\u001b[0m \u001b[38;5;28;43mmin\u001b[39;49m\u001b[43m(\u001b[49m\u001b[43mriscky\u001b[49m\u001b[43m)\u001b[49m\n",
      "\u001b[1;31mTypeError\u001b[0m: '<' not supported between instances of 'str' and 'bool'"
     ]
    }
   ],
   "source": [
    "min(riscky)"
   ]
  },
  {
   "cell_type": "code",
   "execution_count": 66,
   "id": "de1034bf",
   "metadata": {},
   "outputs": [
    {
     "data": {
      "text/plain": [
       "1"
      ]
     },
     "execution_count": 66,
     "metadata": {},
     "output_type": "execute_result"
    }
   ],
   "source": [
    "jannat=[1,2,3,4,5,6]\n",
    "min(jannat)"
   ]
  },
  {
   "cell_type": "code",
   "execution_count": 67,
   "id": "3474b413",
   "metadata": {},
   "outputs": [
    {
     "data": {
      "text/plain": [
       "6"
      ]
     },
     "execution_count": 67,
     "metadata": {},
     "output_type": "execute_result"
    }
   ],
   "source": [
    "max(jannat)"
   ]
  },
  {
   "cell_type": "code",
   "execution_count": 68,
   "id": "b933aae2",
   "metadata": {},
   "outputs": [
    {
     "data": {
      "text/plain": [
       "21"
      ]
     },
     "execution_count": 68,
     "metadata": {},
     "output_type": "execute_result"
    }
   ],
   "source": [
    "sum(jannat)"
   ]
  },
  {
   "cell_type": "code",
   "execution_count": 69,
   "id": "e8011aeb",
   "metadata": {},
   "outputs": [
    {
     "data": {
      "text/plain": [
       "[1, 2, 3, 4, 5, 6]"
      ]
     },
     "execution_count": 69,
     "metadata": {},
     "output_type": "execute_result"
    }
   ],
   "source": [
    "sorted(jannat)"
   ]
  },
  {
   "cell_type": "code",
   "execution_count": 70,
   "id": "6879cdde",
   "metadata": {},
   "outputs": [
    {
     "data": {
      "text/plain": [
       "[6, 5, 4, 3, 2, 1]"
      ]
     },
     "execution_count": 70,
     "metadata": {},
     "output_type": "execute_result"
    }
   ],
   "source": [
    "sorted(jannat,reverse=True)"
   ]
  },
  {
   "cell_type": "code",
   "execution_count": 71,
   "id": "64ecc9c2",
   "metadata": {},
   "outputs": [
    {
     "data": {
      "text/plain": [
       "['Argue', 'Burglar', 'Linear', 'Parent', 'shape']"
      ]
     },
     "execution_count": 71,
     "metadata": {},
     "output_type": "execute_result"
    }
   ],
   "source": [
    "pratik=['Argue','Burglar','Parent','Linear','shape']\n",
    "sorted(pratik)"
   ]
  },
  {
   "cell_type": "code",
   "execution_count": 72,
   "id": "d2f17da4",
   "metadata": {},
   "outputs": [
    {
     "data": {
      "text/plain": [
       "['shape', 'Parent', 'Linear', 'Burglar', 'Argue']"
      ]
     },
     "execution_count": 72,
     "metadata": {},
     "output_type": "execute_result"
    }
   ],
   "source": [
    "sorted(pratik,reverse=True)"
   ]
  },
  {
   "cell_type": "code",
   "execution_count": 73,
   "id": "b94b78a2",
   "metadata": {},
   "outputs": [
    {
     "name": "stdout",
     "output_type": "stream",
     "text": [
      "[1, 2, 3, 1, 1, 1, 3, 10, 5, 8]\n"
     ]
    }
   ],
   "source": [
    "pratik=[1, 2, 3, 1, 1, 1, 3, 10, 5, 8]\n",
    "print(pratik)"
   ]
  },
  {
   "cell_type": "code",
   "execution_count": 74,
   "id": "d86b6805",
   "metadata": {},
   "outputs": [
    {
     "data": {
      "text/plain": [
       "10"
      ]
     },
     "execution_count": 74,
     "metadata": {},
     "output_type": "execute_result"
    }
   ],
   "source": [
    "len(pratik)"
   ]
  },
  {
   "cell_type": "code",
   "execution_count": 75,
   "id": "e39cd2cc",
   "metadata": {},
   "outputs": [],
   "source": [
    "pratik.append('12')"
   ]
  },
  {
   "cell_type": "code",
   "execution_count": 76,
   "id": "2f7f593e",
   "metadata": {},
   "outputs": [
    {
     "name": "stdout",
     "output_type": "stream",
     "text": [
      "[1, 2, 3, 1, 1, 1, 3, 10, 5, 8, '12']\n"
     ]
    }
   ],
   "source": [
    "print(pratik)"
   ]
  },
  {
   "cell_type": "code",
   "execution_count": 77,
   "id": "23915e99",
   "metadata": {},
   "outputs": [
    {
     "data": {
      "text/plain": [
       "'12'"
      ]
     },
     "execution_count": 77,
     "metadata": {},
     "output_type": "execute_result"
    }
   ],
   "source": [
    "pratik.pop()"
   ]
  },
  {
   "cell_type": "code",
   "execution_count": 78,
   "id": "ae128dc7",
   "metadata": {},
   "outputs": [
    {
     "name": "stdout",
     "output_type": "stream",
     "text": [
      "[1, 2, 3, 1, 1, 1, 3, 10, 5, 8]\n"
     ]
    }
   ],
   "source": [
    "print(pratik)"
   ]
  },
  {
   "cell_type": "code",
   "execution_count": 79,
   "id": "a9be7e68",
   "metadata": {},
   "outputs": [],
   "source": [
    "pratik.append(12)"
   ]
  },
  {
   "cell_type": "code",
   "execution_count": 80,
   "id": "cdb59914",
   "metadata": {},
   "outputs": [
    {
     "name": "stdout",
     "output_type": "stream",
     "text": [
      "[1, 2, 3, 1, 1, 1, 3, 10, 5, 8, 12]\n"
     ]
    }
   ],
   "source": [
    "print(pratik)"
   ]
  },
  {
   "cell_type": "code",
   "execution_count": 81,
   "id": "82177a4c",
   "metadata": {},
   "outputs": [],
   "source": [
    "pratik.append([82,4,68])"
   ]
  },
  {
   "cell_type": "code",
   "execution_count": 82,
   "id": "2a466b3d",
   "metadata": {},
   "outputs": [
    {
     "name": "stdout",
     "output_type": "stream",
     "text": [
      "[1, 2, 3, 1, 1, 1, 3, 10, 5, 8, 12, [82, 4, 68]]\n"
     ]
    }
   ],
   "source": [
    "print(pratik)"
   ]
  },
  {
   "cell_type": "code",
   "execution_count": 83,
   "id": "f2910073",
   "metadata": {},
   "outputs": [
    {
     "data": {
      "text/plain": [
       "[82, 4, 68]"
      ]
     },
     "execution_count": 83,
     "metadata": {},
     "output_type": "execute_result"
    }
   ],
   "source": [
    "pratik.pop()"
   ]
  },
  {
   "cell_type": "code",
   "execution_count": 84,
   "id": "2506b074",
   "metadata": {},
   "outputs": [
    {
     "name": "stdout",
     "output_type": "stream",
     "text": [
      "[1, 2, 3, 1, 1, 1, 3, 10, 5, 8, 12]\n"
     ]
    }
   ],
   "source": [
    "print(pratik)"
   ]
  },
  {
   "cell_type": "code",
   "execution_count": 85,
   "id": "7eabd1e0",
   "metadata": {},
   "outputs": [
    {
     "data": {
      "text/plain": [
       "11"
      ]
     },
     "execution_count": 85,
     "metadata": {},
     "output_type": "execute_result"
    }
   ],
   "source": [
    "len(pratik)"
   ]
  },
  {
   "cell_type": "code",
   "execution_count": 86,
   "id": "3ce6d1eb",
   "metadata": {},
   "outputs": [],
   "source": [
    "pratik.extend([7,9,22])"
   ]
  },
  {
   "cell_type": "code",
   "execution_count": 87,
   "id": "86340db3",
   "metadata": {},
   "outputs": [
    {
     "name": "stdout",
     "output_type": "stream",
     "text": [
      "[1, 2, 3, 1, 1, 1, 3, 10, 5, 8, 12, 7, 9, 22]\n"
     ]
    }
   ],
   "source": [
    "print(pratik)"
   ]
  },
  {
   "cell_type": "code",
   "execution_count": 88,
   "id": "62e2c6a7",
   "metadata": {},
   "outputs": [
    {
     "data": {
      "text/plain": [
       "9"
      ]
     },
     "execution_count": 88,
     "metadata": {},
     "output_type": "execute_result"
    }
   ],
   "source": [
    "pratik.pop(-2)"
   ]
  },
  {
   "cell_type": "code",
   "execution_count": 89,
   "id": "06df94cb",
   "metadata": {},
   "outputs": [
    {
     "name": "stdout",
     "output_type": "stream",
     "text": [
      "[1, 2, 3, 1, 1, 1, 3, 10, 5, 8, 12, 7, 22]\n"
     ]
    }
   ],
   "source": [
    "print(pratik)"
   ]
  },
  {
   "cell_type": "code",
   "execution_count": 90,
   "id": "f8fb3592",
   "metadata": {},
   "outputs": [],
   "source": [
    "pratik.remove(1)"
   ]
  },
  {
   "cell_type": "code",
   "execution_count": 91,
   "id": "ea1191bc",
   "metadata": {},
   "outputs": [
    {
     "name": "stdout",
     "output_type": "stream",
     "text": [
      "[2, 3, 1, 1, 1, 3, 10, 5, 8, 12, 7, 22]\n"
     ]
    }
   ],
   "source": [
    "print(pratik)"
   ]
  },
  {
   "cell_type": "code",
   "execution_count": 92,
   "id": "d3ab09b7",
   "metadata": {},
   "outputs": [],
   "source": [
    "pratik.remove(3)"
   ]
  },
  {
   "cell_type": "code",
   "execution_count": 93,
   "id": "39f2faa0",
   "metadata": {},
   "outputs": [
    {
     "name": "stdout",
     "output_type": "stream",
     "text": [
      "[2, 1, 1, 1, 3, 10, 5, 8, 12, 7, 22]\n"
     ]
    }
   ],
   "source": [
    "print(pratik)"
   ]
  },
  {
   "cell_type": "code",
   "execution_count": 94,
   "id": "c4361faf",
   "metadata": {},
   "outputs": [
    {
     "ename": "AttributeError",
     "evalue": "'list' object has no attribute 'cleare'",
     "output_type": "error",
     "traceback": [
      "\u001b[1;31m---------------------------------------------------------------------------\u001b[0m",
      "\u001b[1;31mAttributeError\u001b[0m                            Traceback (most recent call last)",
      "Input \u001b[1;32mIn [94]\u001b[0m, in \u001b[0;36m<cell line: 1>\u001b[1;34m()\u001b[0m\n\u001b[1;32m----> 1\u001b[0m \u001b[43mpratik\u001b[49m\u001b[38;5;241;43m.\u001b[39;49m\u001b[43mcleare\u001b[49m()\n",
      "\u001b[1;31mAttributeError\u001b[0m: 'list' object has no attribute 'cleare'"
     ]
    }
   ],
   "source": [
    "pratik.cleare()"
   ]
  },
  {
   "cell_type": "code",
   "execution_count": 95,
   "id": "c26e9365",
   "metadata": {},
   "outputs": [],
   "source": [
    "pratik.clear()"
   ]
  },
  {
   "cell_type": "code",
   "execution_count": 96,
   "id": "42651c11",
   "metadata": {},
   "outputs": [
    {
     "name": "stdout",
     "output_type": "stream",
     "text": [
      "[]\n"
     ]
    }
   ],
   "source": [
    "print(pratik)"
   ]
  },
  {
   "cell_type": "code",
   "execution_count": 97,
   "id": "d7ae2164",
   "metadata": {},
   "outputs": [
    {
     "name": "stdout",
     "output_type": "stream",
     "text": [
      "[1, 2, 3, 4, 5, 6]\n"
     ]
    }
   ],
   "source": [
    "pratik=[1,2,3,4,5,6]\n",
    "print(pratik)"
   ]
  },
  {
   "cell_type": "code",
   "execution_count": 98,
   "id": "89a7e7b2",
   "metadata": {},
   "outputs": [
    {
     "data": {
      "text/plain": [
       "6"
      ]
     },
     "execution_count": 98,
     "metadata": {},
     "output_type": "execute_result"
    }
   ],
   "source": [
    "len(pratik)"
   ]
  },
  {
   "cell_type": "code",
   "execution_count": 99,
   "id": "53038748",
   "metadata": {},
   "outputs": [
    {
     "data": {
      "text/plain": [
       "1"
      ]
     },
     "execution_count": 99,
     "metadata": {},
     "output_type": "execute_result"
    }
   ],
   "source": [
    "pratik.count(1)"
   ]
  },
  {
   "cell_type": "code",
   "execution_count": 100,
   "id": "d8d7609d",
   "metadata": {},
   "outputs": [
    {
     "data": {
      "text/plain": [
       "3"
      ]
     },
     "execution_count": 100,
     "metadata": {},
     "output_type": "execute_result"
    }
   ],
   "source": [
    "pratik.index(4)"
   ]
  },
  {
   "cell_type": "code",
   "execution_count": 101,
   "id": "0264cb36",
   "metadata": {},
   "outputs": [
    {
     "data": {
      "text/plain": [
       "5"
      ]
     },
     "execution_count": 101,
     "metadata": {},
     "output_type": "execute_result"
    }
   ],
   "source": [
    "pratik[4]"
   ]
  },
  {
   "cell_type": "code",
   "execution_count": 102,
   "id": "97025257",
   "metadata": {},
   "outputs": [
    {
     "data": {
      "text/plain": [
       "[1, 2, 3, 4, 5, 6]"
      ]
     },
     "execution_count": 102,
     "metadata": {},
     "output_type": "execute_result"
    }
   ],
   "source": [
    "sorted(pratik)"
   ]
  },
  {
   "cell_type": "code",
   "execution_count": 103,
   "id": "3337654d",
   "metadata": {},
   "outputs": [],
   "source": [
    "pratik.sort()"
   ]
  },
  {
   "cell_type": "code",
   "execution_count": 104,
   "id": "bdb5f760",
   "metadata": {},
   "outputs": [
    {
     "name": "stdout",
     "output_type": "stream",
     "text": [
      "None\n"
     ]
    }
   ],
   "source": [
    "print(pratik.sort())"
   ]
  },
  {
   "cell_type": "code",
   "execution_count": 105,
   "id": "8ed4f0ce",
   "metadata": {},
   "outputs": [],
   "source": [
    "pratik.sort(reverse=True)"
   ]
  },
  {
   "cell_type": "code",
   "execution_count": 106,
   "id": "8d2b6962",
   "metadata": {},
   "outputs": [
    {
     "name": "stdout",
     "output_type": "stream",
     "text": [
      "[6, 5, 4, 3, 2, 1]\n"
     ]
    }
   ],
   "source": [
    "print(pratik)"
   ]
  },
  {
   "cell_type": "code",
   "execution_count": 148,
   "id": "6971d1c7",
   "metadata": {},
   "outputs": [],
   "source": [
    "pratik.reverse()"
   ]
  },
  {
   "cell_type": "code",
   "execution_count": 149,
   "id": "fd80fb54",
   "metadata": {},
   "outputs": [
    {
     "name": "stdout",
     "output_type": "stream",
     "text": [
      "[1, 2, 3, 4, 5, 6]\n"
     ]
    }
   ],
   "source": [
    "print(pratik)"
   ]
  },
  {
   "cell_type": "code",
   "execution_count": 150,
   "id": "fe2ef820",
   "metadata": {},
   "outputs": [],
   "source": [
    "pratik=1,'a',2"
   ]
  },
  {
   "cell_type": "code",
   "execution_count": 151,
   "id": "2f7d532d",
   "metadata": {},
   "outputs": [
    {
     "data": {
      "text/plain": [
       "tuple"
      ]
     },
     "execution_count": 151,
     "metadata": {},
     "output_type": "execute_result"
    }
   ],
   "source": [
    "type(pratik)"
   ]
  },
  {
   "cell_type": "code",
   "execution_count": 152,
   "id": "e6a8aae1",
   "metadata": {},
   "outputs": [
    {
     "name": "stdout",
     "output_type": "stream",
     "text": [
      "(1, 'a', 2)\n"
     ]
    }
   ],
   "source": [
    "print(pratik)"
   ]
  },
  {
   "cell_type": "code",
   "execution_count": 153,
   "id": "e5db7019",
   "metadata": {},
   "outputs": [
    {
     "data": {
      "text/plain": [
       "3"
      ]
     },
     "execution_count": 153,
     "metadata": {},
     "output_type": "execute_result"
    }
   ],
   "source": [
    "len(pratik)"
   ]
  },
  {
   "cell_type": "code",
   "execution_count": 154,
   "id": "02fbc9df",
   "metadata": {},
   "outputs": [
    {
     "data": {
      "text/plain": [
       "2"
      ]
     },
     "execution_count": 154,
     "metadata": {},
     "output_type": "execute_result"
    }
   ],
   "source": [
    "pratik[2]"
   ]
  },
  {
   "cell_type": "code",
   "execution_count": 155,
   "id": "6f31bb37",
   "metadata": {},
   "outputs": [
    {
     "data": {
      "text/plain": [
       "('a',)"
      ]
     },
     "execution_count": 155,
     "metadata": {},
     "output_type": "execute_result"
    }
   ],
   "source": [
    "pratik[1:2]"
   ]
  },
  {
   "cell_type": "code",
   "execution_count": 156,
   "id": "9874064d",
   "metadata": {},
   "outputs": [
    {
     "data": {
      "text/plain": [
       "(1, 'a', 2)"
      ]
     },
     "execution_count": 156,
     "metadata": {},
     "output_type": "execute_result"
    }
   ],
   "source": [
    "pratik[0:]"
   ]
  },
  {
   "cell_type": "code",
   "execution_count": 157,
   "id": "3bd094cd",
   "metadata": {},
   "outputs": [
    {
     "data": {
      "text/plain": [
       "3"
      ]
     },
     "execution_count": 157,
     "metadata": {},
     "output_type": "execute_result"
    }
   ],
   "source": [
    "len(pratik)"
   ]
  },
  {
   "cell_type": "code",
   "execution_count": 158,
   "id": "1f8bedb0",
   "metadata": {},
   "outputs": [
    {
     "ename": "TypeError",
     "evalue": "'<' not supported between instances of 'str' and 'int'",
     "output_type": "error",
     "traceback": [
      "\u001b[1;31m---------------------------------------------------------------------------\u001b[0m",
      "\u001b[1;31mTypeError\u001b[0m                                 Traceback (most recent call last)",
      "Input \u001b[1;32mIn [158]\u001b[0m, in \u001b[0;36m<cell line: 1>\u001b[1;34m()\u001b[0m\n\u001b[1;32m----> 1\u001b[0m \u001b[38;5;28;43msorted\u001b[39;49m\u001b[43m(\u001b[49m\u001b[43mpratik\u001b[49m\u001b[43m)\u001b[49m\n",
      "\u001b[1;31mTypeError\u001b[0m: '<' not supported between instances of 'str' and 'int'"
     ]
    }
   ],
   "source": [
    "sorted(pratik)"
   ]
  },
  {
   "cell_type": "code",
   "execution_count": 159,
   "id": "1a98a158",
   "metadata": {},
   "outputs": [
    {
     "ename": "AttributeError",
     "evalue": "'tuple' object has no attribute 'sorted'",
     "output_type": "error",
     "traceback": [
      "\u001b[1;31m---------------------------------------------------------------------------\u001b[0m",
      "\u001b[1;31mAttributeError\u001b[0m                            Traceback (most recent call last)",
      "Input \u001b[1;32mIn [159]\u001b[0m, in \u001b[0;36m<cell line: 1>\u001b[1;34m()\u001b[0m\n\u001b[1;32m----> 1\u001b[0m \u001b[43mpratik\u001b[49m\u001b[38;5;241;43m.\u001b[39;49m\u001b[43msorted\u001b[49m()\n",
      "\u001b[1;31mAttributeError\u001b[0m: 'tuple' object has no attribute 'sorted'"
     ]
    }
   ],
   "source": [
    "pratik.sorted()"
   ]
  },
  {
   "cell_type": "code",
   "execution_count": 160,
   "id": "604be36f",
   "metadata": {},
   "outputs": [],
   "source": [
    "riscky=1,2,3,4,5,6"
   ]
  },
  {
   "cell_type": "code",
   "execution_count": 161,
   "id": "dc010356",
   "metadata": {},
   "outputs": [
    {
     "data": {
      "text/plain": [
       "tuple"
      ]
     },
     "execution_count": 161,
     "metadata": {},
     "output_type": "execute_result"
    }
   ],
   "source": [
    "type(riscky)"
   ]
  },
  {
   "cell_type": "code",
   "execution_count": 162,
   "id": "3298b1ab",
   "metadata": {},
   "outputs": [
    {
     "data": {
      "text/plain": [
       "[1, 2, 3, 4, 5, 6]"
      ]
     },
     "execution_count": 162,
     "metadata": {},
     "output_type": "execute_result"
    }
   ],
   "source": [
    "sorted(riscky)"
   ]
  },
  {
   "cell_type": "code",
   "execution_count": 163,
   "id": "54e39164",
   "metadata": {},
   "outputs": [
    {
     "ename": "AttributeError",
     "evalue": "'tuple' object has no attribute 'sorted'",
     "output_type": "error",
     "traceback": [
      "\u001b[1;31m---------------------------------------------------------------------------\u001b[0m",
      "\u001b[1;31mAttributeError\u001b[0m                            Traceback (most recent call last)",
      "Input \u001b[1;32mIn [163]\u001b[0m, in \u001b[0;36m<cell line: 1>\u001b[1;34m()\u001b[0m\n\u001b[1;32m----> 1\u001b[0m \u001b[43mriscky\u001b[49m\u001b[38;5;241;43m.\u001b[39;49m\u001b[43msorted\u001b[49m()\n",
      "\u001b[1;31mAttributeError\u001b[0m: 'tuple' object has no attribute 'sorted'"
     ]
    }
   ],
   "source": [
    "riscky.sorted()"
   ]
  },
  {
   "cell_type": "code",
   "execution_count": 164,
   "id": "e288b7d8",
   "metadata": {},
   "outputs": [
    {
     "ename": "AttributeError",
     "evalue": "'tuple' object has no attribute 'sort'",
     "output_type": "error",
     "traceback": [
      "\u001b[1;31m---------------------------------------------------------------------------\u001b[0m",
      "\u001b[1;31mAttributeError\u001b[0m                            Traceback (most recent call last)",
      "Input \u001b[1;32mIn [164]\u001b[0m, in \u001b[0;36m<cell line: 1>\u001b[1;34m()\u001b[0m\n\u001b[1;32m----> 1\u001b[0m \u001b[43mriscky\u001b[49m\u001b[38;5;241;43m.\u001b[39;49m\u001b[43msort\u001b[49m()\n",
      "\u001b[1;31mAttributeError\u001b[0m: 'tuple' object has no attribute 'sort'"
     ]
    }
   ],
   "source": [
    "riscky.sort()"
   ]
  },
  {
   "cell_type": "code",
   "execution_count": 165,
   "id": "9ec3960d",
   "metadata": {},
   "outputs": [
    {
     "data": {
      "text/plain": [
       "[6, 5, 4, 3, 2, 1]"
      ]
     },
     "execution_count": 165,
     "metadata": {},
     "output_type": "execute_result"
    }
   ],
   "source": [
    "sorted(riscky,reverse=True)"
   ]
  },
  {
   "cell_type": "code",
   "execution_count": 166,
   "id": "c4a68e58",
   "metadata": {},
   "outputs": [
    {
     "data": {
      "text/plain": [
       "1"
      ]
     },
     "execution_count": 166,
     "metadata": {},
     "output_type": "execute_result"
    }
   ],
   "source": [
    "riscky.index(2)"
   ]
  },
  {
   "cell_type": "code",
   "execution_count": 167,
   "id": "52acbaa8",
   "metadata": {},
   "outputs": [
    {
     "ename": "TypeError",
     "evalue": "tuple.count() takes exactly one argument (0 given)",
     "output_type": "error",
     "traceback": [
      "\u001b[1;31m---------------------------------------------------------------------------\u001b[0m",
      "\u001b[1;31mTypeError\u001b[0m                                 Traceback (most recent call last)",
      "Input \u001b[1;32mIn [167]\u001b[0m, in \u001b[0;36m<cell line: 1>\u001b[1;34m()\u001b[0m\n\u001b[1;32m----> 1\u001b[0m \u001b[43mriscky\u001b[49m\u001b[38;5;241;43m.\u001b[39;49m\u001b[43mcount\u001b[49m\u001b[43m(\u001b[49m\u001b[43m)\u001b[49m\n",
      "\u001b[1;31mTypeError\u001b[0m: tuple.count() takes exactly one argument (0 given)"
     ]
    }
   ],
   "source": [
    "riscky.count()"
   ]
  },
  {
   "cell_type": "code",
   "execution_count": 168,
   "id": "764f4d8b",
   "metadata": {},
   "outputs": [
    {
     "data": {
      "text/plain": [
       "0"
      ]
     },
     "execution_count": 168,
     "metadata": {},
     "output_type": "execute_result"
    }
   ],
   "source": [
    "riscky.count('')"
   ]
  },
  {
   "cell_type": "code",
   "execution_count": 169,
   "id": "db621d0a",
   "metadata": {},
   "outputs": [
    {
     "data": {
      "text/plain": [
       "1"
      ]
     },
     "execution_count": 169,
     "metadata": {},
     "output_type": "execute_result"
    }
   ],
   "source": [
    "riscky.count(1)"
   ]
  },
  {
   "cell_type": "code",
   "execution_count": 171,
   "id": "ea75d1ec",
   "metadata": {},
   "outputs": [
    {
     "data": {
      "text/plain": [
       "tuple"
      ]
     },
     "execution_count": 171,
     "metadata": {},
     "output_type": "execute_result"
    }
   ],
   "source": [
    "jannat=()\n",
    "type(jannat)"
   ]
  },
  {
   "cell_type": "code",
   "execution_count": 172,
   "id": "328209cd",
   "metadata": {},
   "outputs": [],
   "source": [
    "jannat={}"
   ]
  },
  {
   "cell_type": "code",
   "execution_count": 173,
   "id": "a8b5b660",
   "metadata": {},
   "outputs": [
    {
     "name": "stdout",
     "output_type": "stream",
     "text": [
      "{}\n"
     ]
    }
   ],
   "source": [
    "print(jannat)"
   ]
  },
  {
   "cell_type": "code",
   "execution_count": 174,
   "id": "a254ca95",
   "metadata": {},
   "outputs": [
    {
     "data": {
      "text/plain": [
       "dict"
      ]
     },
     "execution_count": 174,
     "metadata": {},
     "output_type": "execute_result"
    }
   ],
   "source": [
    "type(jannat)"
   ]
  },
  {
   "cell_type": "code",
   "execution_count": 175,
   "id": "565f16ef",
   "metadata": {},
   "outputs": [],
   "source": [
    "jannat={2,1,3,5,9}"
   ]
  },
  {
   "cell_type": "code",
   "execution_count": 176,
   "id": "b3cf115f",
   "metadata": {},
   "outputs": [
    {
     "data": {
      "text/plain": [
       "set"
      ]
     },
     "execution_count": 176,
     "metadata": {},
     "output_type": "execute_result"
    }
   ],
   "source": [
    "type(jannat)"
   ]
  },
  {
   "cell_type": "code",
   "execution_count": 177,
   "id": "64145893",
   "metadata": {},
   "outputs": [],
   "source": [
    "jannat.add(9)"
   ]
  },
  {
   "cell_type": "code",
   "execution_count": 178,
   "id": "92302468",
   "metadata": {},
   "outputs": [
    {
     "name": "stdout",
     "output_type": "stream",
     "text": [
      "{1, 2, 3, 5, 9}\n"
     ]
    }
   ],
   "source": [
    "print(jannat)"
   ]
  },
  {
   "cell_type": "code",
   "execution_count": 179,
   "id": "2e152230",
   "metadata": {},
   "outputs": [],
   "source": [
    "jannat.add(8)"
   ]
  },
  {
   "cell_type": "code",
   "execution_count": 180,
   "id": "8ff1b82a",
   "metadata": {},
   "outputs": [
    {
     "name": "stdout",
     "output_type": "stream",
     "text": [
      "{1, 2, 3, 5, 8, 9}\n"
     ]
    }
   ],
   "source": [
    "print(jannat)"
   ]
  },
  {
   "cell_type": "code",
   "execution_count": 181,
   "id": "69133dd4",
   "metadata": {},
   "outputs": [
    {
     "data": {
      "text/plain": [
       "set"
      ]
     },
     "execution_count": 181,
     "metadata": {},
     "output_type": "execute_result"
    }
   ],
   "source": [
    "type(jannat)"
   ]
  },
  {
   "cell_type": "code",
   "execution_count": 182,
   "id": "cd982f4a",
   "metadata": {},
   "outputs": [],
   "source": [
    "jannat.update([6,11,12])"
   ]
  },
  {
   "cell_type": "code",
   "execution_count": 183,
   "id": "f1080851",
   "metadata": {},
   "outputs": [
    {
     "name": "stdout",
     "output_type": "stream",
     "text": [
      "{1, 2, 3, 5, 6, 8, 9, 11, 12}\n"
     ]
    }
   ],
   "source": [
    "print(jannat)"
   ]
  },
  {
   "cell_type": "code",
   "execution_count": 184,
   "id": "3c8a2e77",
   "metadata": {},
   "outputs": [
    {
     "data": {
      "text/plain": [
       "set"
      ]
     },
     "execution_count": 184,
     "metadata": {},
     "output_type": "execute_result"
    }
   ],
   "source": [
    "type(jannat)"
   ]
  },
  {
   "cell_type": "code",
   "execution_count": 185,
   "id": "40758ff1",
   "metadata": {},
   "outputs": [],
   "source": [
    "jannat.remove(11)"
   ]
  },
  {
   "cell_type": "code",
   "execution_count": 186,
   "id": "01ec346d",
   "metadata": {},
   "outputs": [
    {
     "name": "stdout",
     "output_type": "stream",
     "text": [
      "{1, 2, 3, 5, 6, 8, 9, 12}\n"
     ]
    }
   ],
   "source": [
    "print(jannat)"
   ]
  },
  {
   "cell_type": "code",
   "execution_count": 187,
   "id": "184062a4",
   "metadata": {},
   "outputs": [
    {
     "data": {
      "text/plain": [
       "1"
      ]
     },
     "execution_count": 187,
     "metadata": {},
     "output_type": "execute_result"
    }
   ],
   "source": [
    "jannat.pop()"
   ]
  },
  {
   "cell_type": "code",
   "execution_count": 188,
   "id": "26da098f",
   "metadata": {},
   "outputs": [
    {
     "name": "stdout",
     "output_type": "stream",
     "text": [
      "{2, 3, 5, 6, 8, 9, 12}\n"
     ]
    }
   ],
   "source": [
    "print(jannat)"
   ]
  },
  {
   "cell_type": "code",
   "execution_count": 189,
   "id": "697ba8c2",
   "metadata": {},
   "outputs": [
    {
     "ename": "TypeError",
     "evalue": "set.pop() takes no arguments (1 given)",
     "output_type": "error",
     "traceback": [
      "\u001b[1;31m---------------------------------------------------------------------------\u001b[0m",
      "\u001b[1;31mTypeError\u001b[0m                                 Traceback (most recent call last)",
      "Input \u001b[1;32mIn [189]\u001b[0m, in \u001b[0;36m<cell line: 1>\u001b[1;34m()\u001b[0m\n\u001b[1;32m----> 1\u001b[0m \u001b[43mjannat\u001b[49m\u001b[38;5;241;43m.\u001b[39;49m\u001b[43mpop\u001b[49m\u001b[43m(\u001b[49m\u001b[38;5;241;43m-\u001b[39;49m\u001b[38;5;241;43m1\u001b[39;49m\u001b[43m)\u001b[49m\n",
      "\u001b[1;31mTypeError\u001b[0m: set.pop() takes no arguments (1 given)"
     ]
    }
   ],
   "source": [
    "jannat.pop(-1)"
   ]
  },
  {
   "cell_type": "code",
   "execution_count": 190,
   "id": "914126e3",
   "metadata": {},
   "outputs": [
    {
     "ename": "TypeError",
     "evalue": "set.pop() takes no arguments (1 given)",
     "output_type": "error",
     "traceback": [
      "\u001b[1;31m---------------------------------------------------------------------------\u001b[0m",
      "\u001b[1;31mTypeError\u001b[0m                                 Traceback (most recent call last)",
      "Input \u001b[1;32mIn [190]\u001b[0m, in \u001b[0;36m<cell line: 1>\u001b[1;34m()\u001b[0m\n\u001b[1;32m----> 1\u001b[0m \u001b[43mjannat\u001b[49m\u001b[38;5;241;43m.\u001b[39;49m\u001b[43mpop\u001b[49m\u001b[43m(\u001b[49m\u001b[38;5;241;43m2\u001b[39;49m\u001b[43m)\u001b[49m\n",
      "\u001b[1;31mTypeError\u001b[0m: set.pop() takes no arguments (1 given)"
     ]
    }
   ],
   "source": [
    "jannat.pop(2)"
   ]
  },
  {
   "cell_type": "code",
   "execution_count": 191,
   "id": "7da40110",
   "metadata": {},
   "outputs": [
    {
     "data": {
      "text/plain": [
       "2"
      ]
     },
     "execution_count": 191,
     "metadata": {},
     "output_type": "execute_result"
    }
   ],
   "source": [
    "jannat.pop()"
   ]
  },
  {
   "cell_type": "code",
   "execution_count": 192,
   "id": "97001e52",
   "metadata": {},
   "outputs": [],
   "source": [
    "jannat.remove(8)"
   ]
  },
  {
   "cell_type": "code",
   "execution_count": 193,
   "id": "a51c7364",
   "metadata": {},
   "outputs": [
    {
     "name": "stdout",
     "output_type": "stream",
     "text": [
      "{3, 5, 6, 9, 12}\n"
     ]
    }
   ],
   "source": [
    "print(jannat)"
   ]
  },
  {
   "cell_type": "code",
   "execution_count": 194,
   "id": "05c74fed",
   "metadata": {},
   "outputs": [
    {
     "data": {
      "text/plain": [
       "{1, 2, 3, 4, 6, 8, 9}"
      ]
     },
     "execution_count": 194,
     "metadata": {},
     "output_type": "execute_result"
    }
   ],
   "source": [
    "a={1,3,6,9}\n",
    "b={2,4,6,8,9}\n",
    "a.union(b)"
   ]
  },
  {
   "cell_type": "code",
   "execution_count": 195,
   "id": "2b203c88",
   "metadata": {},
   "outputs": [
    {
     "data": {
      "text/plain": [
       "{1, 2, 3, 4, 6, 8, 9}"
      ]
     },
     "execution_count": 195,
     "metadata": {},
     "output_type": "execute_result"
    }
   ],
   "source": [
    "a|b"
   ]
  },
  {
   "cell_type": "code",
   "execution_count": 196,
   "id": "4032cb86",
   "metadata": {},
   "outputs": [
    {
     "data": {
      "text/plain": [
       "{6, 9}"
      ]
     },
     "execution_count": 196,
     "metadata": {},
     "output_type": "execute_result"
    }
   ],
   "source": [
    "a.intersection(b)"
   ]
  },
  {
   "cell_type": "code",
   "execution_count": 197,
   "id": "6540d8ea",
   "metadata": {},
   "outputs": [
    {
     "data": {
      "text/plain": [
       "{6, 9}"
      ]
     },
     "execution_count": 197,
     "metadata": {},
     "output_type": "execute_result"
    }
   ],
   "source": [
    "a&b"
   ]
  },
  {
   "cell_type": "code",
   "execution_count": 198,
   "id": "8a61f227",
   "metadata": {},
   "outputs": [
    {
     "ename": "AttributeError",
     "evalue": "'set' object has no attribute 'diffrence'",
     "output_type": "error",
     "traceback": [
      "\u001b[1;31m---------------------------------------------------------------------------\u001b[0m",
      "\u001b[1;31mAttributeError\u001b[0m                            Traceback (most recent call last)",
      "Input \u001b[1;32mIn [198]\u001b[0m, in \u001b[0;36m<cell line: 1>\u001b[1;34m()\u001b[0m\n\u001b[1;32m----> 1\u001b[0m \u001b[43ma\u001b[49m\u001b[38;5;241;43m.\u001b[39;49m\u001b[43mdiffrence\u001b[49m(b)\n",
      "\u001b[1;31mAttributeError\u001b[0m: 'set' object has no attribute 'diffrence'"
     ]
    }
   ],
   "source": [
    "a.diffrence(b)"
   ]
  },
  {
   "cell_type": "code",
   "execution_count": 199,
   "id": "53787827",
   "metadata": {},
   "outputs": [
    {
     "data": {
      "text/plain": [
       "{1, 3}"
      ]
     },
     "execution_count": 199,
     "metadata": {},
     "output_type": "execute_result"
    }
   ],
   "source": [
    "a.difference(b)"
   ]
  },
  {
   "cell_type": "code",
   "execution_count": 200,
   "id": "2c054aa8",
   "metadata": {},
   "outputs": [
    {
     "data": {
      "text/plain": [
       "{1, 3}"
      ]
     },
     "execution_count": 200,
     "metadata": {},
     "output_type": "execute_result"
    }
   ],
   "source": [
    "a-b"
   ]
  },
  {
   "cell_type": "code",
   "execution_count": 201,
   "id": "adc7a540",
   "metadata": {},
   "outputs": [
    {
     "data": {
      "text/plain": [
       "{2, 4, 8}"
      ]
     },
     "execution_count": 201,
     "metadata": {},
     "output_type": "execute_result"
    }
   ],
   "source": [
    "b-a"
   ]
  },
  {
   "cell_type": "code",
   "execution_count": 202,
   "id": "829ba2b1",
   "metadata": {},
   "outputs": [
    {
     "ename": "AttributeError",
     "evalue": "'set' object has no attribute 'symetric_difference'",
     "output_type": "error",
     "traceback": [
      "\u001b[1;31m---------------------------------------------------------------------------\u001b[0m",
      "\u001b[1;31mAttributeError\u001b[0m                            Traceback (most recent call last)",
      "Input \u001b[1;32mIn [202]\u001b[0m, in \u001b[0;36m<cell line: 1>\u001b[1;34m()\u001b[0m\n\u001b[1;32m----> 1\u001b[0m \u001b[43ma\u001b[49m\u001b[38;5;241;43m.\u001b[39;49m\u001b[43msymetric_difference\u001b[49m(b)\n",
      "\u001b[1;31mAttributeError\u001b[0m: 'set' object has no attribute 'symetric_difference'"
     ]
    }
   ],
   "source": [
    "a.symetric_difference(b)"
   ]
  },
  {
   "cell_type": "code",
   "execution_count": 203,
   "id": "cf44851c",
   "metadata": {},
   "outputs": [
    {
     "ename": "TypeError",
     "evalue": "set.symmetric_difference() takes exactly one argument (0 given)",
     "output_type": "error",
     "traceback": [
      "\u001b[1;31m---------------------------------------------------------------------------\u001b[0m",
      "\u001b[1;31mTypeError\u001b[0m                                 Traceback (most recent call last)",
      "Input \u001b[1;32mIn [203]\u001b[0m, in \u001b[0;36m<cell line: 1>\u001b[1;34m()\u001b[0m\n\u001b[1;32m----> 1\u001b[0m \u001b[43ma\u001b[49m\u001b[38;5;241;43m.\u001b[39;49m\u001b[43msymmetric_difference\u001b[49m\u001b[43m(\u001b[49m\u001b[43m)\u001b[49m\n",
      "\u001b[1;31mTypeError\u001b[0m: set.symmetric_difference() takes exactly one argument (0 given)"
     ]
    }
   ],
   "source": [
    "a.symmetric_difference()"
   ]
  },
  {
   "cell_type": "code",
   "execution_count": 204,
   "id": "d1c87ed2",
   "metadata": {},
   "outputs": [
    {
     "data": {
      "text/plain": [
       "{1, 2, 3, 4, 8}"
      ]
     },
     "execution_count": 204,
     "metadata": {},
     "output_type": "execute_result"
    }
   ],
   "source": [
    "a.symmetric_difference(b)"
   ]
  },
  {
   "cell_type": "code",
   "execution_count": 205,
   "id": "78b21253",
   "metadata": {},
   "outputs": [
    {
     "data": {
      "text/plain": [
       "{1, 2, 3, 4, 8}"
      ]
     },
     "execution_count": 205,
     "metadata": {},
     "output_type": "execute_result"
    }
   ],
   "source": [
    "a^b"
   ]
  },
  {
   "cell_type": "code",
   "execution_count": 206,
   "id": "45ad43ce",
   "metadata": {},
   "outputs": [],
   "source": [
    "# Make a dictionary with {} and : to signify a key and a value\n",
    "marvel_dict = {'Name':'Thor','Place':'Asgard','Weapon' : 'Hammer', 1:2, 3 : 'power', 'alibies' : ['Ironman','Captain America'], 'abc' : {1:2, 4:5}}"
   ]
  },
  {
   "cell_type": "code",
   "execution_count": 208,
   "id": "a3c4a299",
   "metadata": {},
   "outputs": [
    {
     "data": {
      "text/plain": [
       "'Thor'"
      ]
     },
     "execution_count": 208,
     "metadata": {},
     "output_type": "execute_result"
    }
   ],
   "source": [
    "marvel_dict['Name']"
   ]
  },
  {
   "cell_type": "code",
   "execution_count": 209,
   "id": "ab3ea928",
   "metadata": {},
   "outputs": [
    {
     "ename": "NameError",
     "evalue": "name 'typr' is not defined",
     "output_type": "error",
     "traceback": [
      "\u001b[1;31m---------------------------------------------------------------------------\u001b[0m",
      "\u001b[1;31mNameError\u001b[0m                                 Traceback (most recent call last)",
      "Input \u001b[1;32mIn [209]\u001b[0m, in \u001b[0;36m<cell line: 1>\u001b[1;34m()\u001b[0m\n\u001b[1;32m----> 1\u001b[0m \u001b[43mtypr\u001b[49m(marvel_dict)\n",
      "\u001b[1;31mNameError\u001b[0m: name 'typr' is not defined"
     ]
    }
   ],
   "source": [
    "typr(marvel_dict)"
   ]
  },
  {
   "cell_type": "code",
   "execution_count": 210,
   "id": "c5965ddc",
   "metadata": {},
   "outputs": [
    {
     "data": {
      "text/plain": [
       "dict"
      ]
     },
     "execution_count": 210,
     "metadata": {},
     "output_type": "execute_result"
    }
   ],
   "source": [
    "type(marvel_dict)"
   ]
  },
  {
   "cell_type": "code",
   "execution_count": 211,
   "id": "feb2c163",
   "metadata": {},
   "outputs": [
    {
     "ename": "KeyError",
     "evalue": "'random'",
     "output_type": "error",
     "traceback": [
      "\u001b[1;31m---------------------------------------------------------------------------\u001b[0m",
      "\u001b[1;31mKeyError\u001b[0m                                  Traceback (most recent call last)",
      "Input \u001b[1;32mIn [211]\u001b[0m, in \u001b[0;36m<cell line: 1>\u001b[1;34m()\u001b[0m\n\u001b[1;32m----> 1\u001b[0m \u001b[43mmarvel_dict\u001b[49m\u001b[43m[\u001b[49m\u001b[38;5;124;43m'\u001b[39;49m\u001b[38;5;124;43mrandom\u001b[39;49m\u001b[38;5;124;43m'\u001b[39;49m\u001b[43m]\u001b[49m\n",
      "\u001b[1;31mKeyError\u001b[0m: 'random'"
     ]
    }
   ],
   "source": [
    "marvel_dict['random']"
   ]
  },
  {
   "cell_type": "code",
   "execution_count": 213,
   "id": "6d2d69ea",
   "metadata": {},
   "outputs": [
    {
     "ename": "NameError",
     "evalue": "name 'Weapon' is not defined",
     "output_type": "error",
     "traceback": [
      "\u001b[1;31m---------------------------------------------------------------------------\u001b[0m",
      "\u001b[1;31mNameError\u001b[0m                                 Traceback (most recent call last)",
      "Input \u001b[1;32mIn [213]\u001b[0m, in \u001b[0;36m<cell line: 1>\u001b[1;34m()\u001b[0m\n\u001b[1;32m----> 1\u001b[0m marvel_dict[\u001b[43mWeapon\u001b[49m]\n",
      "\u001b[1;31mNameError\u001b[0m: name 'Weapon' is not defined"
     ]
    }
   ],
   "source": [
    "marvel_dict[Weapon]"
   ]
  },
  {
   "cell_type": "code",
   "execution_count": 214,
   "id": "235df8d8",
   "metadata": {},
   "outputs": [
    {
     "ename": "TypeError",
     "evalue": "'dict' object is not callable",
     "output_type": "error",
     "traceback": [
      "\u001b[1;31m---------------------------------------------------------------------------\u001b[0m",
      "\u001b[1;31mTypeError\u001b[0m                                 Traceback (most recent call last)",
      "Input \u001b[1;32mIn [214]\u001b[0m, in \u001b[0;36m<cell line: 1>\u001b[1;34m()\u001b[0m\n\u001b[1;32m----> 1\u001b[0m \u001b[43mmarvel_dict\u001b[49m\u001b[43m(\u001b[49m\u001b[38;5;124;43m'\u001b[39;49m\u001b[38;5;124;43mWeapon\u001b[39;49m\u001b[38;5;124;43m'\u001b[39;49m\u001b[43m)\u001b[49m\n",
      "\u001b[1;31mTypeError\u001b[0m: 'dict' object is not callable"
     ]
    }
   ],
   "source": [
    "marvel_dict('Weapon')"
   ]
  },
  {
   "cell_type": "code",
   "execution_count": 215,
   "id": "75ce0b42",
   "metadata": {},
   "outputs": [
    {
     "ename": "KeyError",
     "evalue": "'weapon'",
     "output_type": "error",
     "traceback": [
      "\u001b[1;31m---------------------------------------------------------------------------\u001b[0m",
      "\u001b[1;31mKeyError\u001b[0m                                  Traceback (most recent call last)",
      "Input \u001b[1;32mIn [215]\u001b[0m, in \u001b[0;36m<cell line: 1>\u001b[1;34m()\u001b[0m\n\u001b[1;32m----> 1\u001b[0m \u001b[43mmarvel_dict\u001b[49m\u001b[43m[\u001b[49m\u001b[38;5;124;43m'\u001b[39;49m\u001b[38;5;124;43mweapon\u001b[39;49m\u001b[38;5;124;43m'\u001b[39;49m\u001b[43m]\u001b[49m\n",
      "\u001b[1;31mKeyError\u001b[0m: 'weapon'"
     ]
    }
   ],
   "source": [
    "marvel_dict['weapon']"
   ]
  },
  {
   "cell_type": "code",
   "execution_count": 216,
   "id": "2b17574e",
   "metadata": {},
   "outputs": [
    {
     "data": {
      "text/plain": [
       "'Hammer'"
      ]
     },
     "execution_count": 216,
     "metadata": {},
     "output_type": "execute_result"
    }
   ],
   "source": [
    "marvel_dict['Weapon']"
   ]
  },
  {
   "cell_type": "code",
   "execution_count": 217,
   "id": "c0a3b220",
   "metadata": {},
   "outputs": [
    {
     "data": {
      "text/plain": [
       "dict_keys(['Name', 'Place', 'Weapon', 1, 3, 'alibies', 'abc'])"
      ]
     },
     "execution_count": 217,
     "metadata": {},
     "output_type": "execute_result"
    }
   ],
   "source": [
    "marvel_dict.keys()"
   ]
  },
  {
   "cell_type": "code",
   "execution_count": 218,
   "id": "cc17e482",
   "metadata": {},
   "outputs": [
    {
     "data": {
      "text/plain": [
       "['Name', 'Place', 'Weapon', 1, 3, 'alibies', 'abc']"
      ]
     },
     "execution_count": 218,
     "metadata": {},
     "output_type": "execute_result"
    }
   ],
   "source": [
    "list(marvel_dict.keys())"
   ]
  },
  {
   "cell_type": "code",
   "execution_count": 219,
   "id": "b0259f9b",
   "metadata": {},
   "outputs": [
    {
     "data": {
      "text/plain": [
       "dict_values(['Thor', 'Asgard', 'Hammer', 2, 'power', ['Ironman', 'Captain America'], {1: 2, 4: 5}])"
      ]
     },
     "execution_count": 219,
     "metadata": {},
     "output_type": "execute_result"
    }
   ],
   "source": [
    "marvel_dict.values()"
   ]
  },
  {
   "cell_type": "code",
   "execution_count": 220,
   "id": "c38a9ad0",
   "metadata": {},
   "outputs": [
    {
     "data": {
      "text/plain": [
       "['Thor',\n",
       " 'Asgard',\n",
       " 'Hammer',\n",
       " 2,\n",
       " 'power',\n",
       " ['Ironman', 'Captain America'],\n",
       " {1: 2, 4: 5}]"
      ]
     },
     "execution_count": 220,
     "metadata": {},
     "output_type": "execute_result"
    }
   ],
   "source": [
    "list(marvel_dict.values())"
   ]
  },
  {
   "cell_type": "code",
   "execution_count": 221,
   "id": "bab70f60",
   "metadata": {},
   "outputs": [
    {
     "data": {
      "text/plain": [
       "dict_items([('Name', 'Thor'), ('Place', 'Asgard'), ('Weapon', 'Hammer'), (1, 2), (3, 'power'), ('alibies', ['Ironman', 'Captain America']), ('abc', {1: 2, 4: 5})])"
      ]
     },
     "execution_count": 221,
     "metadata": {},
     "output_type": "execute_result"
    }
   ],
   "source": [
    "marvel_dict.items()"
   ]
  },
  {
   "cell_type": "code",
   "execution_count": 222,
   "id": "53a1277e",
   "metadata": {},
   "outputs": [
    {
     "data": {
      "text/plain": [
       "'Thor'"
      ]
     },
     "execution_count": 222,
     "metadata": {},
     "output_type": "execute_result"
    }
   ],
   "source": [
    "marvel_dict.get('Name')"
   ]
  },
  {
   "cell_type": "code",
   "execution_count": 223,
   "id": "46d91df1",
   "metadata": {},
   "outputs": [],
   "source": [
    "marvel_dict.get('Random')"
   ]
  },
  {
   "cell_type": "code",
   "execution_count": 224,
   "id": "74460030",
   "metadata": {},
   "outputs": [
    {
     "data": {
      "text/plain": [
       "'Not found'"
      ]
     },
     "execution_count": 224,
     "metadata": {},
     "output_type": "execute_result"
    }
   ],
   "source": [
    "marvel_dict.get('Random','Not found')"
   ]
  },
  {
   "cell_type": "code",
   "execution_count": 225,
   "id": "d0ec32ec",
   "metadata": {},
   "outputs": [],
   "source": [
    "marvel_dict.get('Random')"
   ]
  },
  {
   "cell_type": "code",
   "execution_count": 226,
   "id": "b6bc4246",
   "metadata": {},
   "outputs": [],
   "source": [
    "employee_dict = {'Name':'Sanket','Skills':['Python','Machine Learning','Deep Learning'],'Band':6.0,'Promotion Year':[2016,2018,2020]}"
   ]
  },
  {
   "cell_type": "code",
   "execution_count": 227,
   "id": "051119ad",
   "metadata": {},
   "outputs": [
    {
     "name": "stdout",
     "output_type": "stream",
     "text": [
      "{'Name': 'Sanket', 'Skills': ['Python', 'Machine Learning', 'Deep Learning'], 'Band': 6.0, 'Promotion Year': [2016, 2018, 2020]}\n"
     ]
    }
   ],
   "source": [
    "print(employee_dict)"
   ]
  },
  {
   "cell_type": "code",
   "execution_count": 228,
   "id": "7f117ebe",
   "metadata": {},
   "outputs": [
    {
     "data": {
      "text/plain": [
       "4"
      ]
     },
     "execution_count": 228,
     "metadata": {},
     "output_type": "execute_result"
    }
   ],
   "source": [
    "len(employee_dict)"
   ]
  },
  {
   "cell_type": "code",
   "execution_count": 229,
   "id": "530b8cd9",
   "metadata": {},
   "outputs": [
    {
     "ename": "KeyError",
     "evalue": "'skills'",
     "output_type": "error",
     "traceback": [
      "\u001b[1;31m---------------------------------------------------------------------------\u001b[0m",
      "\u001b[1;31mKeyError\u001b[0m                                  Traceback (most recent call last)",
      "Input \u001b[1;32mIn [229]\u001b[0m, in \u001b[0;36m<cell line: 1>\u001b[1;34m()\u001b[0m\n\u001b[1;32m----> 1\u001b[0m \u001b[43memployee_dict\u001b[49m\u001b[43m[\u001b[49m\u001b[38;5;124;43m'\u001b[39;49m\u001b[38;5;124;43mskills\u001b[39;49m\u001b[38;5;124;43m'\u001b[39;49m\u001b[43m]\u001b[49m\n",
      "\u001b[1;31mKeyError\u001b[0m: 'skills'"
     ]
    }
   ],
   "source": [
    "employee_dict['skills']"
   ]
  },
  {
   "cell_type": "code",
   "execution_count": 230,
   "id": "7ac5eb83",
   "metadata": {},
   "outputs": [
    {
     "data": {
      "text/plain": [
       "['Python', 'Machine Learning', 'Deep Learning']"
      ]
     },
     "execution_count": 230,
     "metadata": {},
     "output_type": "execute_result"
    }
   ],
   "source": [
    "employee_dict['Skills']"
   ]
  },
  {
   "cell_type": "code",
   "execution_count": 231,
   "id": "364bf64f",
   "metadata": {},
   "outputs": [
    {
     "data": {
      "text/plain": [
       "'Python'"
      ]
     },
     "execution_count": 231,
     "metadata": {},
     "output_type": "execute_result"
    }
   ],
   "source": [
    "employee_dict['Skills'][0]"
   ]
  },
  {
   "cell_type": "code",
   "execution_count": 233,
   "id": "34334a6e",
   "metadata": {},
   "outputs": [
    {
     "data": {
      "text/plain": [
       "'PYTHON'"
      ]
     },
     "execution_count": 233,
     "metadata": {},
     "output_type": "execute_result"
    }
   ],
   "source": [
    "employee_dict['Skills'][0].upper()"
   ]
  },
  {
   "cell_type": "code",
   "execution_count": 235,
   "id": "d7289c7d",
   "metadata": {},
   "outputs": [],
   "source": [
    "employee_dict['Designation']='Data scientist'"
   ]
  },
  {
   "cell_type": "code",
   "execution_count": 236,
   "id": "5867b036",
   "metadata": {},
   "outputs": [
    {
     "name": "stdout",
     "output_type": "stream",
     "text": [
      "{'Name': 'Sanket', 'Skills': ['Python', 'Machine Learning', 'Deep Learning'], 'Band': 6.0, 'Promotion Year': [2016, 2018, 2020], 'Designation': 'Data scientist'}\n"
     ]
    }
   ],
   "source": [
    "print(employee_dict)"
   ]
  },
  {
   "cell_type": "code",
   "execution_count": 240,
   "id": "9ca140ca",
   "metadata": {
    "scrolled": true
   },
   "outputs": [
    {
     "ename": "TypeError",
     "evalue": "'dict' object is not callable",
     "output_type": "error",
     "traceback": [
      "\u001b[1;31m---------------------------------------------------------------------------\u001b[0m",
      "\u001b[1;31mTypeError\u001b[0m                                 Traceback (most recent call last)",
      "Input \u001b[1;32mIn [240]\u001b[0m, in \u001b[0;36m<cell line: 1>\u001b[1;34m()\u001b[0m\n\u001b[1;32m----> 1\u001b[0m employee_dict\u001b[38;5;241m=\u001b[39m\u001b[43memployee_dict\u001b[49m\u001b[43m(\u001b[49m\u001b[38;5;124;43m'\u001b[39;49m\u001b[38;5;124;43mpost\u001b[39;49m\u001b[38;5;124;43m'\u001b[39;49m\u001b[38;5;241;43m==\u001b[39;49m\u001b[38;5;124;43m'\u001b[39;49m\u001b[38;5;124;43msr\u001b[39;49m\u001b[38;5;124;43m'\u001b[39;49m\u001b[43m)\u001b[49m\n",
      "\u001b[1;31mTypeError\u001b[0m: 'dict' object is not callable"
     ]
    }
   ],
   "source": [
    "employee_dict=employee_dict('post'=='sr')"
   ]
  },
  {
   "cell_type": "code",
   "execution_count": 242,
   "id": "31c05dd1",
   "metadata": {},
   "outputs": [],
   "source": [
    "employee_dict.update({'salary':'200000'})"
   ]
  },
  {
   "cell_type": "markdown",
   "id": "ac70f38f",
   "metadata": {},
   "source": []
  },
  {
   "cell_type": "code",
   "execution_count": 243,
   "id": "4cd080e9",
   "metadata": {},
   "outputs": [
    {
     "name": "stdout",
     "output_type": "stream",
     "text": [
      "{'Name': 'Sanket', 'Skills': ['Python', 'Machine Learning', 'Deep Learning'], 'Band': 6.0, 'Promotion Year': [2016, 2018, 2020], 'Designation': 'Data scientist', 'salary': '200000'}\n"
     ]
    }
   ],
   "source": [
    "print(employee_dict)"
   ]
  },
  {
   "cell_type": "code",
   "execution_count": 245,
   "id": "26111654",
   "metadata": {},
   "outputs": [],
   "source": [
    "employee_dict['Name']=employee_dict['Name']+''+'alex'"
   ]
  },
  {
   "cell_type": "code",
   "execution_count": 246,
   "id": "5346a127",
   "metadata": {},
   "outputs": [
    {
     "name": "stdout",
     "output_type": "stream",
     "text": [
      "{'Name': 'Sanketalex', 'Skills': ['Python', 'Machine Learning', 'Deep Learning'], 'Band': 6.0, 'Promotion Year': [2016, 2018, 2020], 'Designation': 'Data scientist', 'salary': '200000'}\n"
     ]
    }
   ],
   "source": [
    "print(employee_dict)"
   ]
  },
  {
   "cell_type": "code",
   "execution_count": 247,
   "id": "934add07",
   "metadata": {},
   "outputs": [],
   "source": [
    "state=['gujarat','maharastra','rajasthan']\n",
    "city=['ahmedabad','mumbai','udaipur']"
   ]
  },
  {
   "cell_type": "code",
   "execution_count": 250,
   "id": "442435d1",
   "metadata": {},
   "outputs": [],
   "source": [
    "list_states_city=list(zip(state,city))"
   ]
  },
  {
   "cell_type": "code",
   "execution_count": 251,
   "id": "8b63945a",
   "metadata": {},
   "outputs": [
    {
     "name": "stdout",
     "output_type": "stream",
     "text": [
      "[('gujarat', 'ahmedabad'), ('maharastra', 'mumbai'), ('rajasthan', 'udaipur')]\n"
     ]
    }
   ],
   "source": [
    "print(list_states_city)"
   ]
  },
  {
   "cell_type": "code",
   "execution_count": null,
   "id": "4ed90f01",
   "metadata": {},
   "outputs": [],
   "source": []
  },
  {
   "cell_type": "code",
   "execution_count": 252,
   "id": "c50b1484",
   "metadata": {},
   "outputs": [],
   "source": [
    "dict_states_city=dict(list(zip(state,city)))"
   ]
  },
  {
   "cell_type": "code",
   "execution_count": 253,
   "id": "8919c755",
   "metadata": {},
   "outputs": [
    {
     "name": "stdout",
     "output_type": "stream",
     "text": [
      "{'gujarat': 'ahmedabad', 'maharastra': 'mumbai', 'rajasthan': 'udaipur'}\n"
     ]
    }
   ],
   "source": [
    "print(dict_states_city)"
   ]
  },
  {
   "cell_type": "code",
   "execution_count": 258,
   "id": "717e0c65",
   "metadata": {},
   "outputs": [
    {
     "data": {
      "text/plain": [
       "'ahmedabad'"
      ]
     },
     "execution_count": 258,
     "metadata": {},
     "output_type": "execute_result"
    }
   ],
   "source": [
    "dict_states_city.pop('gujarat')"
   ]
  },
  {
   "cell_type": "code",
   "execution_count": 259,
   "id": "86f4b537",
   "metadata": {},
   "outputs": [
    {
     "name": "stdout",
     "output_type": "stream",
     "text": [
      "{'maharastra': 'mumbai', 'rajasthan': 'udaipur'}\n"
     ]
    }
   ],
   "source": [
    "print(dict_states_city)"
   ]
  },
  {
   "cell_type": "code",
   "execution_count": 260,
   "id": "d1df9c0a",
   "metadata": {},
   "outputs": [
    {
     "data": {
      "text/plain": [
       "False"
      ]
     },
     "execution_count": 260,
     "metadata": {},
     "output_type": "execute_result"
    }
   ],
   "source": [
    "x==20"
   ]
  },
  {
   "cell_type": "code",
   "execution_count": 261,
   "id": "28633515",
   "metadata": {},
   "outputs": [],
   "source": [
    "x=20"
   ]
  },
  {
   "cell_type": "code",
   "execution_count": 265,
   "id": "1a703f76",
   "metadata": {},
   "outputs": [
    {
     "name": "stdout",
     "output_type": "stream",
     "text": [
      "it is True\n"
     ]
    }
   ],
   "source": [
    "x==20\n",
    "if True:\n",
    "    print('it is True')\n",
    "    if False:\n",
    "        print('it is False')"
   ]
  },
  {
   "cell_type": "code",
   "execution_count": 269,
   "id": "216cc4bd",
   "metadata": {},
   "outputs": [
    {
     "name": "stdout",
     "output_type": "stream",
     "text": [
      "it is False\n"
     ]
    }
   ],
   "source": [
    "x=True\n",
    "y=False\n",
    "if y:\n",
    "    print('It is true')\n",
    "else:\n",
    "    print('it is False')"
   ]
  },
  {
   "cell_type": "code",
   "execution_count": 270,
   "id": "125a4301",
   "metadata": {},
   "outputs": [
    {
     "name": "stdout",
     "output_type": "stream",
     "text": [
      "i do not know where am i\n"
     ]
    }
   ],
   "source": [
    "city='pune'\n",
    "if city=='mumbai':\n",
    "    print('welcome to our city mumbai')\n",
    "elif city=='ahmedabad':\n",
    "    print('welcome to our city ahmedabad')\n",
    "else:\n",
    "    print('i do not know where am i')\n"
   ]
  },
  {
   "cell_type": "code",
   "execution_count": 271,
   "id": "3608147e",
   "metadata": {},
   "outputs": [
    {
     "name": "stdout",
     "output_type": "stream",
     "text": [
      "hllo mr pratik\n"
     ]
    }
   ],
   "source": [
    "person='pratik'\n",
    "if person=='pratik':\n",
    "    print('hllo mr pratik')\n",
    "elif person=='riscky':\n",
    "    print('ohh it is riscky')\n",
    "else :\n",
    "    print('do not know who is he?')"
   ]
  },
  {
   "cell_type": "code",
   "execution_count": 273,
   "id": "705f2800",
   "metadata": {},
   "outputs": [
    {
     "name": "stdout",
     "output_type": "stream",
     "text": [
      "welcomr mr pratik.\n"
     ]
    }
   ],
   "source": [
    "person='pratik'\n",
    "if person=='pratik':\n",
    "    print(f'welcomr mr {person}.')"
   ]
  },
  {
   "cell_type": "code",
   "execution_count": 274,
   "id": "d765e78e",
   "metadata": {},
   "outputs": [
    {
     "name": "stdout",
     "output_type": "stream",
     "text": [
      "hey bro are you on wrong way\n"
     ]
    }
   ],
   "source": [
    "number1=0\n",
    "number2=3\n",
    "if number1<0:\n",
    "    if number2<4:\n",
    "        print('it is riscky number for u')\n",
    "elif number1==2:\n",
    "    print('it is hard bro')\n",
    "else :\n",
    "    print('hey bro are you on wrong way')"
   ]
  },
  {
   "cell_type": "code",
   "execution_count": 279,
   "id": "2dbb2eda",
   "metadata": {
    "scrolled": true
   },
   "outputs": [
    {
     "name": "stdout",
     "output_type": "stream",
     "text": [
      "i have more better option then you\n"
     ]
    }
   ],
   "source": [
    "if 0:\n",
    "    print('it is awesome')\n",
    "else :\n",
    "    print('i have more better option then you')"
   ]
  },
  {
   "cell_type": "code",
   "execution_count": 281,
   "id": "1ac1efe3",
   "metadata": {},
   "outputs": [
    {
     "name": "stdout",
     "output_type": "stream",
     "text": [
      "are you on wrong way\n"
     ]
    }
   ],
   "source": [
    "if 0.0:\n",
    "    print(\"it's amzing\")\n",
    "else :\n",
    "    print('are you on wrong way')"
   ]
  },
  {
   "cell_type": "code",
   "execution_count": 5,
   "id": "eb39cfeb",
   "metadata": {},
   "outputs": [
    {
     "name": "stdout",
     "output_type": "stream",
     "text": [
      "this is odd number1\n",
      "this is even number2\n",
      "this is even number3\n",
      "this is even number4\n",
      "this is even number5\n",
      "this is even number6\n",
      "this is even number7\n",
      "this is even number8\n",
      "this is even number9\n",
      "this is odd number0\n",
      "[2, 3, 4, 5, 6, 7, 8, 9]\n"
     ]
    }
   ],
   "source": [
    "a=[1,2,3,4,5,6,7,8,9,0]\n",
    "odd=[]\n",
    "even=[]\n",
    "for i in a:\n",
    "    if i<2:\n",
    "        odd.append(i)\n",
    "        print(f'this is odd number{i}')\n",
    "    else:\n",
    "        even.append(i)\n",
    "        print(f'this is even number{i}')\n",
    "        \n",
    "print(even)\n",
    "        "
   ]
  },
  {
   "cell_type": "code",
   "execution_count": null,
   "id": "54524372",
   "metadata": {},
   "outputs": [],
   "source": []
  }
 ],
 "metadata": {
  "kernelspec": {
   "display_name": "Python 3 (ipykernel)",
   "language": "python",
   "name": "python3"
  },
  "language_info": {
   "codemirror_mode": {
    "name": "ipython",
    "version": 3
   },
   "file_extension": ".py",
   "mimetype": "text/x-python",
   "name": "python",
   "nbconvert_exporter": "python",
   "pygments_lexer": "ipython3",
   "version": "3.9.12"
  }
 },
 "nbformat": 4,
 "nbformat_minor": 5
}
