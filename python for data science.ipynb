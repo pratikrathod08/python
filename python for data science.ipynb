{
 "cells": [
  {
   "cell_type": "code",
   "execution_count": 1,
   "id": "32e2cdcd",
   "metadata": {},
   "outputs": [],
   "source": [
    "a=\"aaa\""
   ]
  },
  {
   "cell_type": "code",
   "execution_count": 2,
   "id": "88c4cfac",
   "metadata": {},
   "outputs": [
    {
     "name": "stdout",
     "output_type": "stream",
     "text": [
      "aaa\n"
     ]
    }
   ],
   "source": [
    "print(a)"
   ]
  },
  {
   "cell_type": "code",
   "execution_count": 3,
   "id": "6f72d5d7",
   "metadata": {},
   "outputs": [],
   "source": [
    "jannat='i am king of my world'"
   ]
  },
  {
   "cell_type": "code",
   "execution_count": 4,
   "id": "91a12f3e",
   "metadata": {},
   "outputs": [
    {
     "data": {
      "text/plain": [
       "['i', 'am', 'king', 'of', 'my', 'world']"
      ]
     },
     "execution_count": 4,
     "metadata": {},
     "output_type": "execute_result"
    }
   ],
   "source": [
    "jannat.split()"
   ]
  },
  {
   "cell_type": "code",
   "execution_count": 5,
   "id": "2731399d",
   "metadata": {},
   "outputs": [
    {
     "data": {
      "text/plain": [
       "'i am king of my world'"
      ]
     },
     "execution_count": 5,
     "metadata": {},
     "output_type": "execute_result"
    }
   ],
   "source": [
    "jannat.rstrip()"
   ]
  },
  {
   "cell_type": "code",
   "execution_count": 6,
   "id": "8b621c73",
   "metadata": {},
   "outputs": [
    {
     "data": {
      "text/plain": [
       "'i am king of my world'"
      ]
     },
     "execution_count": 6,
     "metadata": {},
     "output_type": "execute_result"
    }
   ],
   "source": [
    "jannat.lstrip()"
   ]
  },
  {
   "cell_type": "code",
   "execution_count": 7,
   "id": "43612663",
   "metadata": {},
   "outputs": [
    {
     "data": {
      "text/plain": [
       "['i ', 'm king of my world']"
      ]
     },
     "execution_count": 7,
     "metadata": {},
     "output_type": "execute_result"
    }
   ],
   "source": [
    "jannat.split('a')"
   ]
  },
  {
   "cell_type": "code",
   "execution_count": 10,
   "id": "8e4596b8",
   "metadata": {},
   "outputs": [
    {
     "data": {
      "text/plain": [
       "['i am king of', 'my', 'world']"
      ]
     },
     "execution_count": 10,
     "metadata": {},
     "output_type": "execute_result"
    }
   ],
   "source": [
    "jannat.rsplit(' ',2)"
   ]
  },
  {
   "cell_type": "code",
   "execution_count": 23,
   "id": "ae244045",
   "metadata": {
    "scrolled": true
   },
   "outputs": [
    {
     "ename": "NameError",
     "evalue": "name 'devil' is not defined",
     "output_type": "error",
     "traceback": [
      "\u001b[1;31m---------------------------------------------------------------------------\u001b[0m",
      "\u001b[1;31mNameError\u001b[0m                                 Traceback (most recent call last)",
      "Input \u001b[1;32mIn [23]\u001b[0m, in \u001b[0;36m<cell line: 2>\u001b[1;34m()\u001b[0m\n\u001b[0;32m      1\u001b[0m riscky\u001b[38;5;241m=\u001b[39m\u001b[38;5;124m'\u001b[39m\u001b[38;5;124mi am \u001b[39m\u001b[38;5;132;01m{0}\u001b[39;00m\u001b[38;5;124m and i am to much \u001b[39m\u001b[38;5;132;01m{1}\u001b[39;00m\u001b[38;5;124m.\u001b[39m\u001b[38;5;124m'\u001b[39m\n\u001b[1;32m----> 2\u001b[0m riscky\u001b[38;5;241m.\u001b[39mformat(\u001b[43mdevil\u001b[49m,angry)\n\u001b[0;32m      3\u001b[0m \u001b[38;5;28mprint\u001b[39m(riscky)\n",
      "\u001b[1;31mNameError\u001b[0m: name 'devil' is not defined"
     ]
    }
   ],
   "source": [
    "riscky='i am {0} and i am to much {1}.'\n",
    "riscky.format(devil,angry)\n",
    "print(riscky)"
   ]
  },
  {
   "cell_type": "code",
   "execution_count": 31,
   "id": "18735d21",
   "metadata": {},
   "outputs": [
    {
     "ename": "SyntaxError",
     "evalue": "invalid syntax (3407888209.py, line 5)",
     "output_type": "error",
     "traceback": [
      "\u001b[1;36m  Input \u001b[1;32mIn [31]\u001b[1;36m\u001b[0m\n\u001b[1;33m    elif:\u001b[0m\n\u001b[1;37m        ^\u001b[0m\n\u001b[1;31mSyntaxError\u001b[0m\u001b[1;31m:\u001b[0m invalid syntax\n"
     ]
    }
   ],
   "source": [
    "a=[1,2,3,4,5,7,8,9]\n",
    "for i in a:\n",
    "    if i%2==0:\n",
    "        print(f'this is list of even number {i} ')\n",
    "    elif:\n",
    "        print(f'this is list of odd number{i}')\n",
    "    else :\n",
    "        print(f'this is nothing')\n",
    "    "
   ]
  },
  {
   "cell_type": "code",
   "execution_count": 1,
   "id": "3d6c5620",
   "metadata": {},
   "outputs": [],
   "source": [
    "x=3"
   ]
  },
  {
   "cell_type": "code",
   "execution_count": 2,
   "id": "19b64c2d",
   "metadata": {},
   "outputs": [
    {
     "name": "stdout",
     "output_type": "stream",
     "text": [
      "6\n"
     ]
    }
   ],
   "source": [
    "print(3+3)"
   ]
  },
  {
   "cell_type": "code",
   "execution_count": 3,
   "id": "40f11cb6",
   "metadata": {},
   "outputs": [
    {
     "name": "stdout",
     "output_type": "stream",
     "text": [
      "10\n"
     ]
    }
   ],
   "source": [
    "print(len('hello team'))"
   ]
  },
  {
   "cell_type": "code",
   "execution_count": 4,
   "id": "30878e69",
   "metadata": {},
   "outputs": [],
   "source": [
    "y=3.14+4.2"
   ]
  },
  {
   "cell_type": "code",
   "execution_count": 5,
   "id": "f76b66d7",
   "metadata": {},
   "outputs": [],
   "source": [
    "a='mighty'"
   ]
  },
  {
   "cell_type": "code",
   "execution_count": 6,
   "id": "eeb4f1d1",
   "metadata": {},
   "outputs": [
    {
     "name": "stdout",
     "output_type": "stream",
     "text": [
      "mighty\n"
     ]
    }
   ],
   "source": [
    "print(a)"
   ]
  },
  {
   "cell_type": "code",
   "execution_count": 10,
   "id": "6ba395cc",
   "metadata": {},
   "outputs": [],
   "source": [
    "b='jannat'"
   ]
  },
  {
   "cell_type": "code",
   "execution_count": 13,
   "id": "667b403d",
   "metadata": {},
   "outputs": [
    {
     "data": {
      "text/plain": [
       "False"
      ]
     },
     "execution_count": 13,
     "metadata": {},
     "output_type": "execute_result"
    }
   ],
   "source": [
    "a==b"
   ]
  },
  {
   "cell_type": "code",
   "execution_count": 14,
   "id": "33bedc6a",
   "metadata": {},
   "outputs": [
    {
     "name": "stdout",
     "output_type": "stream",
     "text": [
      "7.34\n"
     ]
    }
   ],
   "source": [
    "print(y)"
   ]
  },
  {
   "cell_type": "code",
   "execution_count": 17,
   "id": "15b35248",
   "metadata": {},
   "outputs": [
    {
     "name": "stdout",
     "output_type": "stream",
     "text": [
      "11\n"
     ]
    }
   ],
   "source": [
    "x=1\n",
    "y=2+9\n",
    "z=3\n",
    "print(y)"
   ]
  },
  {
   "cell_type": "code",
   "execution_count": 18,
   "id": "0bed6e31",
   "metadata": {},
   "outputs": [],
   "source": [
    "colors = 'Set theory is the mathematical theory of well-determined collections, called sets, of objects that are called members, or elements, of the set. Pure set theory deals exclusively with sets, so the only sets under consideration are those whose members are also sets. The theory of the hereditarily-finite sets, namely those finite sets whose elements are also finite sets, the elements of which are also finite, and so on, is formally equivalent to arithmetic. So, the essence of set theory is the study of infinite sets, and therefore it can be defined as the mathematical theory of the actual—as opposed to potential—infinite.'"
   ]
  },
  {
   "cell_type": "code",
   "execution_count": 19,
   "id": "004954d3",
   "metadata": {},
   "outputs": [],
   "source": [
    "a=1\n",
    "b=2\n",
    "c=3"
   ]
  },
  {
   "cell_type": "code",
   "execution_count": null,
   "id": "0635a449",
   "metadata": {},
   "outputs": [],
   "source": []
  }
 ],
 "metadata": {
  "kernelspec": {
   "display_name": "Python 3 (ipykernel)",
   "language": "python",
   "name": "python3"
  },
  "language_info": {
   "codemirror_mode": {
    "name": "ipython",
    "version": 3
   },
   "file_extension": ".py",
   "mimetype": "text/x-python",
   "name": "python",
   "nbconvert_exporter": "python",
   "pygments_lexer": "ipython3",
   "version": "3.9.12"
  }
 },
 "nbformat": 4,
 "nbformat_minor": 5
}
