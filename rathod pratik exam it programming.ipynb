{
 "cells": [
  {
   "cell_type": "code",
   "execution_count": 1,
   "id": "99a2e3e7",
   "metadata": {},
   "outputs": [
    {
     "name": "stdout",
     "output_type": "stream",
     "text": [
      "[(), ('ram', '15', '8'), (), ('laxman', 'sita'), ('krishna', 'akbar', '45'), ',', ()]\n"
     ]
    }
   ],
   "source": [
    "my_tuple=[(),('ram','15','8'),(),('laxman','sita'),('krishna','akbar','45'),(\",\"),()]\n",
    "print(my_tuple)\n"
   ]
  },
  {
   "cell_type": "code",
   "execution_count": 2,
   "id": "88b4aee0",
   "metadata": {},
   "outputs": [
    {
     "name": "stdout",
     "output_type": "stream",
     "text": [
      "list of element which is greater then 2 is4\n",
      "list of element which is greater then 2 is6\n",
      "list of element which is greater then 2 is4\n",
      "list of element which is greater then 2 is3\n",
      "list of element which is greater then 2 is3\n",
      "list of element which is greater then 2 is4\n",
      "list of element which is greater then 2 is3\n",
      "list of element which is greater then 2 is7\n",
      "list of element which is greater then 2 is8\n",
      "list of element which is greater then 2 is8\n"
     ]
    }
   ],
   "source": [
    "test_list=[4,6,4,3,3,4,3,7,8,8]\n",
    "k=2\n",
    "for a in test_list:\n",
    "    if a>k:\n",
    "        print(f'list of element which is greater then 2 is{a}')"
   ]
  },
  {
   "cell_type": "code",
   "execution_count": 3,
   "id": "7387da73",
   "metadata": {},
   "outputs": [
    {
     "name": "stdout",
     "output_type": "stream",
     "text": [
      "i\n",
      " \n",
      "a\n",
      "m\n",
      " \n",
      "a\n",
      " \n",
      "d\n",
      "a\n",
      "t\n",
      "a\n",
      " \n",
      "s\n",
      "c\n",
      "i\n",
      "e\n",
      "n\n",
      "t\n",
      "i\n",
      "s\n",
      "t\n",
      " \n",
      "a\n",
      "n\n",
      "d\n",
      " \n",
      "i\n",
      " \n",
      "a\n",
      "m\n",
      " \n",
      "l\n",
      "o\n",
      "o\n",
      "k\n",
      "i\n",
      "n\n",
      "g\n",
      " \n",
      "f\n",
      "o\n",
      "r\n",
      " \n",
      "g\n",
      "o\n",
      "o\n",
      "d\n",
      " \n",
      "o\n",
      "p\n",
      "p\n",
      "e\n",
      "r\n",
      "t\n",
      "u\n",
      "n\n",
      "i\n",
      "t\n",
      "y\n",
      " \n",
      "i\n",
      "n\n",
      " \n",
      "d\n",
      "a\n",
      "t\n",
      "a\n",
      " \n",
      "s\n",
      "c\n",
      "i\n",
      "e\n",
      "n\n",
      "c\n",
      "e\n",
      " \n",
      "d\n",
      "o\n",
      "m\n",
      "a\n",
      "i\n",
      "n\n"
     ]
    }
   ],
   "source": [
    "aaa=\"i am a data scientist and i am looking for good oppertunity in data science domain\"\n",
    "for number in aaa:\n",
    "    print(number)"
   ]
  },
  {
   "cell_type": "code",
   "execution_count": null,
   "id": "ae83022c",
   "metadata": {},
   "outputs": [],
   "source": []
  },
  {
   "cell_type": "code",
   "execution_count": null,
   "id": "aadaf192",
   "metadata": {},
   "outputs": [],
   "source": []
  }
 ],
 "metadata": {
  "kernelspec": {
   "display_name": "Python 3 (ipykernel)",
   "language": "python",
   "name": "python3"
  },
  "language_info": {
   "codemirror_mode": {
    "name": "ipython",
    "version": 3
   },
   "file_extension": ".py",
   "mimetype": "text/x-python",
   "name": "python",
   "nbconvert_exporter": "python",
   "pygments_lexer": "ipython3",
   "version": "3.9.12"
  }
 },
 "nbformat": 4,
 "nbformat_minor": 5
}
