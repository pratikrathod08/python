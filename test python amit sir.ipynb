{
 "cells": [
  {
   "cell_type": "code",
   "execution_count": 8,
   "id": "4ce18cf2",
   "metadata": {},
   "outputs": [
    {
     "name": "stdout",
     "output_type": "stream",
     "text": [
      "20001000\n",
      "this is not leap year\n"
     ]
    }
   ],
   "source": [
    "#1 leap year programme\n",
    "\n",
    "a=int(input(a))\n",
    "if a %4 ==0:\n",
    "    if a % 100 ==0:\n",
    "        if a % 400 ==0:\n",
    "            print('this is leap year')\n",
    "        else:\n",
    "            print('this is not leap year')\n",
    "    else:\n",
    "        print('this is not leap year')\n",
    "else:\n",
    "    print('this is not leap year')"
   ]
  },
  {
   "cell_type": "code",
   "execution_count": 2,
   "id": "46b33aa1",
   "metadata": {},
   "outputs": [
    {
     "name": "stdout",
     "output_type": "stream",
     "text": [
      "22 44 89\n",
      "['89']\n"
     ]
    }
   ],
   "source": [
    "#2 find max number from take 3 input from user.\n",
    "\n",
    "\n",
    "x,y,z=input().split()\n",
    "aa=[]\n",
    "\n",
    "if x>y and x>z:\n",
    "    aa.append(x)\n",
    "if y>x and y>z:\n",
    "    aa.append(y)\n",
    "if z>x and z>y:\n",
    "    aa.append(z)\n",
    "print(aa)\n",
    "    \n",
    "\n"
   ]
  },
  {
   "cell_type": "code",
   "execution_count": 14,
   "id": "fdbeb79e",
   "metadata": {},
   "outputs": [
    {
     "name": "stdout",
     "output_type": "stream",
     "text": [
      "50.5\n"
     ]
    }
   ],
   "source": [
    "#3 find average of mean od range 1 to 100\n",
    "\n",
    "a=range(1,101)\n",
    "b=0\n",
    "for i in a:\n",
    "    b += i\n",
    "avg=b/len(a)\n",
    "print(avg)\n",
    "    "
   ]
  },
  {
   "cell_type": "code",
   "execution_count": 15,
   "id": "26b3031a",
   "metadata": {},
   "outputs": [],
   "source": [
    "#4  find even and odd number sum from number in 0 to 100.\n",
    "odd_sum=0\n",
    "even_sum=0\n",
    "a=range(1,101)\n",
    "for i in a:\n",
    "    if i%2==0:\n",
    "        even_sum +=i\n",
    "    else:\n",
    "        odd_sum +=i"
   ]
  },
  {
   "cell_type": "code",
   "execution_count": 16,
   "id": "9c75e3e7",
   "metadata": {},
   "outputs": [
    {
     "name": "stdout",
     "output_type": "stream",
     "text": [
      "2500\n",
      "2550\n"
     ]
    }
   ],
   "source": [
    "print(odd_sum)\n",
    "print(even_sum)"
   ]
  },
  {
   "cell_type": "code",
   "execution_count": 29,
   "id": "28d554ce",
   "metadata": {
    "scrolled": true
   },
   "outputs": [
    {
     "name": "stdout",
     "output_type": "stream",
     "text": [
      "1236\n",
      "6321\n"
     ]
    }
   ],
   "source": [
    "#5 find out reverse of any number.\n",
    "aa=int(input())\n",
    "bb=0\n",
    "while aa>0:\n",
    "    num=aa%10\n",
    "    bb = bb*10+num\n",
    "    aa=aa//10\n",
    "print(bb)\n",
    "    \n",
    "    "
   ]
  },
  {
   "cell_type": "code",
   "execution_count": 20,
   "id": "560702c2",
   "metadata": {},
   "outputs": [
    {
     "name": "stdout",
     "output_type": "stream",
     "text": [
      "2 1 2 3 6\n",
      "['2', '1', '2', '3', '6']\n",
      "6\n",
      "3\n",
      "2\n",
      "1\n",
      "2\n"
     ]
    }
   ],
   "source": [
    "#6 take 5 input of reverse and reverse then\n",
    "\n",
    "a,b,c,d,e=input().split()\n",
    "bb=[]\n",
    "cc=[]\n",
    "for i in a,b,c,d,e:\n",
    "    bb.append(i)\n",
    "print(bb)\n",
    "for j in range(len(bb)-1,-1,-1):\n",
    "    print(bb[j])\n",
    "    \n",
    "    \n",
    "    \n",
    "\n",
    "\n"
   ]
  },
  {
   "cell_type": "code",
   "execution_count": 13,
   "id": "8e2fd657",
   "metadata": {},
   "outputs": [
    {
     "name": "stdout",
     "output_type": "stream",
     "text": [
      "12\n",
      "this is not prime number\n"
     ]
    }
   ],
   "source": [
    "#7  write a code to find prime number.\n",
    "aa=int(input())\n",
    "\n",
    "for i in range(2,aa):\n",
    "    if aa%i==0:\n",
    "        print('this is not prime number')\n",
    "        break\n",
    "    else:\n",
    "        print('this is prime number')\n",
    "        break"
   ]
  },
  {
   "cell_type": "code",
   "execution_count": 18,
   "id": "606aff23",
   "metadata": {},
   "outputs": [
    {
     "name": "stdout",
     "output_type": "stream",
     "text": [
      "123456\n",
      "this number/string is not a pelindrome number or string\n"
     ]
    }
   ],
   "source": [
    "#8 write a code to find pelindrome number/string\n",
    "\n",
    "aa=input()\n",
    "bb=aa[::-1]\n",
    "if aa==bb:\n",
    "    print('this number/string is pelindrome')\n",
    "else:\n",
    "    print('this number/string is not a pelindrome number or string')"
   ]
  },
  {
   "cell_type": "code",
   "execution_count": 19,
   "id": "06cb4d33",
   "metadata": {},
   "outputs": [
    {
     "name": "stdout",
     "output_type": "stream",
     "text": [
      "jay bhole\n",
      "3\n"
     ]
    }
   ],
   "source": [
    "#9 write a code to count the vowels in a string.\n",
    "\n",
    "dd=input()\n",
    "ww=0\n",
    "for i in dd:\n",
    "    if i in['a','e','i','o','u']:\n",
    "        ww += 1\n",
    "print(ww)"
   ]
  },
  {
   "cell_type": "code",
   "execution_count": 8,
   "id": "1c58a094",
   "metadata": {},
   "outputs": [
    {
     "name": "stdout",
     "output_type": "stream",
     "text": [
      "jaybharat\n",
      "jgybhgrgt\n"
     ]
    }
   ],
   "source": [
    "#10 write a code to find vowels in string and replace vowels from 'g'. \n",
    "\n",
    "dd=input()\n",
    "ww=[]\n",
    "for i in dd:\n",
    "    if i not in['a','e','i','o','u']:\n",
    "        ww.append(i)\n",
    "    else:\n",
    "        i='g'\n",
    "        ww.append(i)\n",
    "ww=''.join(ww)\n",
    "print(ww)"
   ]
  },
  {
   "cell_type": "code",
   "execution_count": 1,
   "id": "913b61c3",
   "metadata": {},
   "outputs": [
    {
     "name": "stdout",
     "output_type": "stream",
     "text": [
      "hello my dear 111\n",
      "4\n",
      "11\n"
     ]
    }
   ],
   "source": [
    "#11 write a code to get sum of vowels and constants from given string\n",
    "\n",
    "aa=input()\n",
    "vowels=0\n",
    "constant=0\n",
    "for i in aa:\n",
    "    if i in['a','e','i','o','u']:\n",
    "        vowels +=1\n",
    "    if i.isalpha():\n",
    "        constant +=1\n",
    "print(vowels)\n",
    "print(constant)\n",
    "        "
   ]
  },
  {
   "cell_type": "code",
   "execution_count": 21,
   "id": "91aeea2f",
   "metadata": {},
   "outputs": [
    {
     "name": "stdout",
     "output_type": "stream",
     "text": [
      "[4, 677, 6, 5, 4, 23, 11]\n"
     ]
    }
   ],
   "source": [
    "#6 second solution \n",
    "\n",
    "\n",
    "a=[11,23,4,5,6,677,4]\n",
    "b=[]\n",
    "for i in a:\n",
    "    b.insert(0,i)\n",
    "    \n",
    "print(b)\n",
    "    \n",
    "    "
   ]
  },
  {
   "cell_type": "code",
   "execution_count": null,
   "id": "cd760e2e",
   "metadata": {},
   "outputs": [],
   "source": []
  }
 ],
 "metadata": {
  "kernelspec": {
   "display_name": "Python 3 (ipykernel)",
   "language": "python",
   "name": "python3"
  },
  "language_info": {
   "codemirror_mode": {
    "name": "ipython",
    "version": 3
   },
   "file_extension": ".py",
   "mimetype": "text/x-python",
   "name": "python",
   "nbconvert_exporter": "python",
   "pygments_lexer": "ipython3",
   "version": "3.9.12"
  }
 },
 "nbformat": 4,
 "nbformat_minor": 5
}
